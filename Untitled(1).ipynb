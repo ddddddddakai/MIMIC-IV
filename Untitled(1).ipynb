{
 "cells": [
  {
   "cell_type": "markdown",
   "id": "e8f57a5e",
   "metadata": {},
   "source": [
    "## Report"
   ]
  },
  {
   "cell_type": "markdown",
   "id": "394ba730",
   "metadata": {},
   "source": [
    "Step 1. import necessary packages"
   ]
  },
  {
   "cell_type": "code",
   "execution_count": 25,
   "id": "6af91f06",
   "metadata": {},
   "outputs": [],
   "source": [
    "import pandas as pd\n",
    "import numpy as np\n",
    "import heapq\n",
    "from operator import itemgetter\n",
    "from sklearn.ensemble import RandomForestClassifier\n",
    "from sklearn.preprocessing import StandardScaler\n",
    "from sklearn.impute import SimpleImputer\n",
    "from sklearn.compose import make_column_transformer\n",
    "from sklearn.pipeline import make_pipeline\n",
    "from sklearn import svm\n",
    "from sklearn.linear_model import LogisticRegression\n",
    "from sklearn.tree import DecisionTreeClassifier\n",
    "from sklearn.model_selection import cross_validate\n",
    "from sklearn.metrics import f1_score\n",
    "import matplotlib.pyplot as plt\n",
    "import seaborn as sns\n",
    "from sklearn import tree"
   ]
  },
  {
   "cell_type": "markdown",
   "id": "b39b2f15",
   "metadata": {},
   "source": [
    "Step 2. read data from the csv file"
   ]
  },
  {
   "cell_type": "code",
   "execution_count": 2,
   "id": "6339a05e",
   "metadata": {},
   "outputs": [],
   "source": [
    "data = pd.read_csv(\"data.csv\")"
   ]
  },
  {
   "cell_type": "markdown",
   "id": "501c3b6e",
   "metadata": {},
   "source": [
    "Step 3. explore data"
   ]
  },
  {
   "cell_type": "code",
   "execution_count": 3,
   "id": "2a98581e",
   "metadata": {},
   "outputs": [
    {
     "data": {
      "text/html": [
       "<div>\n",
       "<style scoped>\n",
       "    .dataframe tbody tr th:only-of-type {\n",
       "        vertical-align: middle;\n",
       "    }\n",
       "\n",
       "    .dataframe tbody tr th {\n",
       "        vertical-align: top;\n",
       "    }\n",
       "\n",
       "    .dataframe thead th {\n",
       "        text-align: right;\n",
       "    }\n",
       "</style>\n",
       "<table border=\"1\" class=\"dataframe\">\n",
       "  <thead>\n",
       "    <tr style=\"text-align: right;\">\n",
       "      <th></th>\n",
       "      <th>gender</th>\n",
       "      <th>age</th>\n",
       "      <th>heart_rate_min</th>\n",
       "      <th>heart_rate_max</th>\n",
       "      <th>heart_rate_mean</th>\n",
       "      <th>mbp_min</th>\n",
       "      <th>mbp_max</th>\n",
       "      <th>mbp_mean</th>\n",
       "      <th>sbp_min</th>\n",
       "      <th>sbp_max</th>\n",
       "      <th>...</th>\n",
       "      <th>bilirubin_indirect_min</th>\n",
       "      <th>urineoutput</th>\n",
       "      <th>sofa_respiration</th>\n",
       "      <th>sofa_coagulation</th>\n",
       "      <th>sofa_liver</th>\n",
       "      <th>sofa_cardiovascular</th>\n",
       "      <th>sofa_cns</th>\n",
       "      <th>sofa_renal</th>\n",
       "      <th>charlson_comorbidity_index</th>\n",
       "      <th>outcome</th>\n",
       "    </tr>\n",
       "  </thead>\n",
       "  <tbody>\n",
       "    <tr>\n",
       "      <th>0</th>\n",
       "      <td>M</td>\n",
       "      <td>54.550390</td>\n",
       "      <td>93.0</td>\n",
       "      <td>115.0</td>\n",
       "      <td>103.500000</td>\n",
       "      <td>57.0</td>\n",
       "      <td>100.0</td>\n",
       "      <td>82.733333</td>\n",
       "      <td>87.0</td>\n",
       "      <td>163.0</td>\n",
       "      <td>...</td>\n",
       "      <td>NaN</td>\n",
       "      <td>3459.0</td>\n",
       "      <td>2.0</td>\n",
       "      <td>0.0</td>\n",
       "      <td>NaN</td>\n",
       "      <td>1.0</td>\n",
       "      <td>0.0</td>\n",
       "      <td>1.0</td>\n",
       "      <td>3</td>\n",
       "      <td>False</td>\n",
       "    </tr>\n",
       "    <tr>\n",
       "      <th>1</th>\n",
       "      <td>M</td>\n",
       "      <td>86.324653</td>\n",
       "      <td>50.0</td>\n",
       "      <td>61.0</td>\n",
       "      <td>54.333333</td>\n",
       "      <td>61.0</td>\n",
       "      <td>93.0</td>\n",
       "      <td>71.695652</td>\n",
       "      <td>95.0</td>\n",
       "      <td>141.0</td>\n",
       "      <td>...</td>\n",
       "      <td>NaN</td>\n",
       "      <td>2020.0</td>\n",
       "      <td>NaN</td>\n",
       "      <td>1.0</td>\n",
       "      <td>NaN</td>\n",
       "      <td>1.0</td>\n",
       "      <td>1.0</td>\n",
       "      <td>1.0</td>\n",
       "      <td>8</td>\n",
       "      <td>False</td>\n",
       "    </tr>\n",
       "    <tr>\n",
       "      <th>2</th>\n",
       "      <td>M</td>\n",
       "      <td>40.270146</td>\n",
       "      <td>70.0</td>\n",
       "      <td>105.0</td>\n",
       "      <td>83.434783</td>\n",
       "      <td>66.0</td>\n",
       "      <td>92.0</td>\n",
       "      <td>76.695652</td>\n",
       "      <td>94.0</td>\n",
       "      <td>129.0</td>\n",
       "      <td>...</td>\n",
       "      <td>NaN</td>\n",
       "      <td>3050.0</td>\n",
       "      <td>NaN</td>\n",
       "      <td>1.0</td>\n",
       "      <td>0.0</td>\n",
       "      <td>1.0</td>\n",
       "      <td>1.0</td>\n",
       "      <td>0.0</td>\n",
       "      <td>4</td>\n",
       "      <td>False</td>\n",
       "    </tr>\n",
       "    <tr>\n",
       "      <th>3</th>\n",
       "      <td>M</td>\n",
       "      <td>73.383547</td>\n",
       "      <td>68.0</td>\n",
       "      <td>98.0</td>\n",
       "      <td>83.880000</td>\n",
       "      <td>74.0</td>\n",
       "      <td>101.0</td>\n",
       "      <td>84.694444</td>\n",
       "      <td>83.0</td>\n",
       "      <td>148.0</td>\n",
       "      <td>...</td>\n",
       "      <td>NaN</td>\n",
       "      <td>1592.0</td>\n",
       "      <td>NaN</td>\n",
       "      <td>0.0</td>\n",
       "      <td>NaN</td>\n",
       "      <td>0.0</td>\n",
       "      <td>0.0</td>\n",
       "      <td>1.0</td>\n",
       "      <td>6</td>\n",
       "      <td>False</td>\n",
       "    </tr>\n",
       "    <tr>\n",
       "      <th>4</th>\n",
       "      <td>M</td>\n",
       "      <td>70.724748</td>\n",
       "      <td>77.0</td>\n",
       "      <td>95.0</td>\n",
       "      <td>85.771429</td>\n",
       "      <td>30.0</td>\n",
       "      <td>90.0</td>\n",
       "      <td>62.657143</td>\n",
       "      <td>52.0</td>\n",
       "      <td>129.0</td>\n",
       "      <td>...</td>\n",
       "      <td>NaN</td>\n",
       "      <td>339.0</td>\n",
       "      <td>2.0</td>\n",
       "      <td>0.0</td>\n",
       "      <td>0.0</td>\n",
       "      <td>4.0</td>\n",
       "      <td>1.0</td>\n",
       "      <td>3.0</td>\n",
       "      <td>10</td>\n",
       "      <td>False</td>\n",
       "    </tr>\n",
       "  </tbody>\n",
       "</table>\n",
       "<p>5 rows × 60 columns</p>\n",
       "</div>"
      ],
      "text/plain": [
       "  gender        age  heart_rate_min  heart_rate_max  heart_rate_mean  mbp_min  \\\n",
       "0      M  54.550390            93.0           115.0       103.500000     57.0   \n",
       "1      M  86.324653            50.0            61.0        54.333333     61.0   \n",
       "2      M  40.270146            70.0           105.0        83.434783     66.0   \n",
       "3      M  73.383547            68.0            98.0        83.880000     74.0   \n",
       "4      M  70.724748            77.0            95.0        85.771429     30.0   \n",
       "\n",
       "   mbp_max   mbp_mean  sbp_min  sbp_max  ...  bilirubin_indirect_min  \\\n",
       "0    100.0  82.733333     87.0    163.0  ...                     NaN   \n",
       "1     93.0  71.695652     95.0    141.0  ...                     NaN   \n",
       "2     92.0  76.695652     94.0    129.0  ...                     NaN   \n",
       "3    101.0  84.694444     83.0    148.0  ...                     NaN   \n",
       "4     90.0  62.657143     52.0    129.0  ...                     NaN   \n",
       "\n",
       "   urineoutput  sofa_respiration  sofa_coagulation  sofa_liver  \\\n",
       "0       3459.0               2.0               0.0         NaN   \n",
       "1       2020.0               NaN               1.0         NaN   \n",
       "2       3050.0               NaN               1.0         0.0   \n",
       "3       1592.0               NaN               0.0         NaN   \n",
       "4        339.0               2.0               0.0         0.0   \n",
       "\n",
       "   sofa_cardiovascular  sofa_cns  sofa_renal  charlson_comorbidity_index  \\\n",
       "0                  1.0       0.0         1.0                           3   \n",
       "1                  1.0       1.0         1.0                           8   \n",
       "2                  1.0       1.0         0.0                           4   \n",
       "3                  0.0       0.0         1.0                           6   \n",
       "4                  4.0       1.0         3.0                          10   \n",
       "\n",
       "   outcome  \n",
       "0    False  \n",
       "1    False  \n",
       "2    False  \n",
       "3    False  \n",
       "4    False  \n",
       "\n",
       "[5 rows x 60 columns]"
      ]
     },
     "execution_count": 3,
     "metadata": {},
     "output_type": "execute_result"
    }
   ],
   "source": [
    "data.head(5) # display the first 5 rows"
   ]
  },
  {
   "cell_type": "code",
   "execution_count": 4,
   "id": "ea680045",
   "metadata": {},
   "outputs": [
    {
     "data": {
      "text/plain": [
       "False    35160\n",
       "True      1329\n",
       "Name: outcome, dtype: int64"
      ]
     },
     "execution_count": 4,
     "metadata": {},
     "output_type": "execute_result"
    }
   ],
   "source": [
    "data[\"outcome\"].value_counts()"
   ]
  },
  {
   "cell_type": "code",
   "execution_count": 5,
   "id": "b04a4cd0",
   "metadata": {},
   "outputs": [
    {
     "data": {
      "text/plain": [
       "Text(0.5, 1.0, 'The Distribution of the Outcome')"
      ]
     },
     "execution_count": 5,
     "metadata": {},
     "output_type": "execute_result"
    },
    {
     "data": {
      "image/png": "[encoded data removed]",
      "text/plain": [
       "<Figure size 432x288 with 1 Axes>"
      ]
     },
     "metadata": {},
     "output_type": "display_data"
    }
   ],
   "source": [
    "plt.pie(x = data[\"outcome\"].value_counts(), labels = data[\"outcome\"].value_counts().index, autopct = \"%.2f%%\")\n",
    "plt.title(\"The Distribution of the Outcome\")"
   ]
  },
  {
   "cell_type": "code",
   "execution_count": 6,
   "id": "868ffd02",
   "metadata": {},
   "outputs": [
    {
     "data": {
      "text/html": [
       "<div>\n",
       "<style scoped>\n",
       "    .dataframe tbody tr th:only-of-type {\n",
       "        vertical-align: middle;\n",
       "    }\n",
       "\n",
       "    .dataframe tbody tr th {\n",
       "        vertical-align: top;\n",
       "    }\n",
       "\n",
       "    .dataframe thead th {\n",
       "        text-align: right;\n",
       "    }\n",
       "</style>\n",
       "<table border=\"1\" class=\"dataframe\">\n",
       "  <thead>\n",
       "    <tr style=\"text-align: right;\">\n",
       "      <th></th>\n",
       "      <th>age</th>\n",
       "      <th>heart_rate_min</th>\n",
       "      <th>heart_rate_max</th>\n",
       "      <th>heart_rate_mean</th>\n",
       "      <th>mbp_min</th>\n",
       "      <th>mbp_max</th>\n",
       "      <th>mbp_mean</th>\n",
       "      <th>sbp_min</th>\n",
       "      <th>sbp_max</th>\n",
       "      <th>sbp_mean</th>\n",
       "      <th>...</th>\n",
       "      <th>bilirubin_indirect_max</th>\n",
       "      <th>bilirubin_indirect_min</th>\n",
       "      <th>urineoutput</th>\n",
       "      <th>sofa_respiration</th>\n",
       "      <th>sofa_coagulation</th>\n",
       "      <th>sofa_liver</th>\n",
       "      <th>sofa_cardiovascular</th>\n",
       "      <th>sofa_cns</th>\n",
       "      <th>sofa_renal</th>\n",
       "      <th>charlson_comorbidity_index</th>\n",
       "    </tr>\n",
       "  </thead>\n",
       "  <tbody>\n",
       "    <tr>\n",
       "      <th>count</th>\n",
       "      <td>36489.000000</td>\n",
       "      <td>36417.000000</td>\n",
       "      <td>36417.000000</td>\n",
       "      <td>36417.000000</td>\n",
       "      <td>36401.000000</td>\n",
       "      <td>36401.000000</td>\n",
       "      <td>36401.000000</td>\n",
       "      <td>36343.000000</td>\n",
       "      <td>36343.000000</td>\n",
       "      <td>36343.000000</td>\n",
       "      <td>...</td>\n",
       "      <td>1544.000000</td>\n",
       "      <td>1544.000000</td>\n",
       "      <td>35073.000000</td>\n",
       "      <td>7587.000000</td>\n",
       "      <td>36235.000000</td>\n",
       "      <td>18590.000000</td>\n",
       "      <td>36402.000000</td>\n",
       "      <td>36468.000000</td>\n",
       "      <td>36467.000000</td>\n",
       "      <td>36489.000000</td>\n",
       "    </tr>\n",
       "    <tr>\n",
       "      <th>mean</th>\n",
       "      <td>65.907162</td>\n",
       "      <td>70.935003</td>\n",
       "      <td>103.109572</td>\n",
       "      <td>84.855578</td>\n",
       "      <td>60.429777</td>\n",
       "      <td>105.484634</td>\n",
       "      <td>79.255689</td>\n",
       "      <td>94.449898</td>\n",
       "      <td>147.691412</td>\n",
       "      <td>119.757827</td>\n",
       "      <td>...</td>\n",
       "      <td>1.855894</td>\n",
       "      <td>1.742163</td>\n",
       "      <td>1914.991284</td>\n",
       "      <td>1.723738</td>\n",
       "      <td>0.481109</td>\n",
       "      <td>0.514094</td>\n",
       "      <td>1.060381</td>\n",
       "      <td>0.915433</td>\n",
       "      <td>0.826501</td>\n",
       "      <td>5.798104</td>\n",
       "    </tr>\n",
       "    <tr>\n",
       "      <th>std</th>\n",
       "      <td>16.797498</td>\n",
       "      <td>15.064109</td>\n",
       "      <td>20.682937</td>\n",
       "      <td>15.977454</td>\n",
       "      <td>13.347348</td>\n",
       "      <td>23.346984</td>\n",
       "      <td>11.758700</td>\n",
       "      <td>16.705217</td>\n",
       "      <td>22.855348</td>\n",
       "      <td>17.220898</td>\n",
       "      <td>...</td>\n",
       "      <td>2.293747</td>\n",
       "      <td>2.219434</td>\n",
       "      <td>1266.887914</td>\n",
       "      <td>0.588464</td>\n",
       "      <td>0.825034</td>\n",
       "      <td>0.963752</td>\n",
       "      <td>0.972511</td>\n",
       "      <td>1.050761</td>\n",
       "      <td>1.201510</td>\n",
       "      <td>3.014789</td>\n",
       "    </tr>\n",
       "    <tr>\n",
       "      <th>min</th>\n",
       "      <td>18.002527</td>\n",
       "      <td>9.000000</td>\n",
       "      <td>36.000000</td>\n",
       "      <td>28.500000</td>\n",
       "      <td>0.830000</td>\n",
       "      <td>51.000000</td>\n",
       "      <td>42.513889</td>\n",
       "      <td>2.000000</td>\n",
       "      <td>49.000000</td>\n",
       "      <td>40.000000</td>\n",
       "      <td>...</td>\n",
       "      <td>0.100000</td>\n",
       "      <td>0.100000</td>\n",
       "      <td>-14850.000000</td>\n",
       "      <td>0.000000</td>\n",
       "      <td>0.000000</td>\n",
       "      <td>0.000000</td>\n",
       "      <td>0.000000</td>\n",
       "      <td>0.000000</td>\n",
       "      <td>0.000000</td>\n",
       "      <td>0.000000</td>\n",
       "    </tr>\n",
       "    <tr>\n",
       "      <th>25%</th>\n",
       "      <td>55.549252</td>\n",
       "      <td>60.000000</td>\n",
       "      <td>88.000000</td>\n",
       "      <td>73.321429</td>\n",
       "      <td>53.000000</td>\n",
       "      <td>91.000000</td>\n",
       "      <td>70.896552</td>\n",
       "      <td>83.500000</td>\n",
       "      <td>132.000000</td>\n",
       "      <td>107.096464</td>\n",
       "      <td>...</td>\n",
       "      <td>0.500000</td>\n",
       "      <td>0.500000</td>\n",
       "      <td>1050.000000</td>\n",
       "      <td>2.000000</td>\n",
       "      <td>0.000000</td>\n",
       "      <td>0.000000</td>\n",
       "      <td>1.000000</td>\n",
       "      <td>0.000000</td>\n",
       "      <td>0.000000</td>\n",
       "      <td>4.000000</td>\n",
       "    </tr>\n",
       "    <tr>\n",
       "      <th>50%</th>\n",
       "      <td>67.439033</td>\n",
       "      <td>70.000000</td>\n",
       "      <td>101.000000</td>\n",
       "      <td>83.500000</td>\n",
       "      <td>60.000000</td>\n",
       "      <td>102.000000</td>\n",
       "      <td>77.851852</td>\n",
       "      <td>93.000000</td>\n",
       "      <td>146.000000</td>\n",
       "      <td>117.678571</td>\n",
       "      <td>...</td>\n",
       "      <td>1.000000</td>\n",
       "      <td>1.000000</td>\n",
       "      <td>1667.000000</td>\n",
       "      <td>2.000000</td>\n",
       "      <td>0.000000</td>\n",
       "      <td>0.000000</td>\n",
       "      <td>1.000000</td>\n",
       "      <td>1.000000</td>\n",
       "      <td>0.000000</td>\n",
       "      <td>6.000000</td>\n",
       "    </tr>\n",
       "    <tr>\n",
       "      <th>75%</th>\n",
       "      <td>78.729524</td>\n",
       "      <td>80.000000</td>\n",
       "      <td>115.000000</td>\n",
       "      <td>95.250000</td>\n",
       "      <td>68.000000</td>\n",
       "      <td>115.000000</td>\n",
       "      <td>86.382353</td>\n",
       "      <td>104.000000</td>\n",
       "      <td>161.000000</td>\n",
       "      <td>130.649616</td>\n",
       "      <td>...</td>\n",
       "      <td>2.200000</td>\n",
       "      <td>2.000000</td>\n",
       "      <td>2500.000000</td>\n",
       "      <td>2.000000</td>\n",
       "      <td>1.000000</td>\n",
       "      <td>1.000000</td>\n",
       "      <td>1.000000</td>\n",
       "      <td>1.000000</td>\n",
       "      <td>1.000000</td>\n",
       "      <td>8.000000</td>\n",
       "    </tr>\n",
       "    <tr>\n",
       "      <th>max</th>\n",
       "      <td>102.865603</td>\n",
       "      <td>163.000000</td>\n",
       "      <td>295.000000</td>\n",
       "      <td>174.740741</td>\n",
       "      <td>133.000000</td>\n",
       "      <td>299.000000</td>\n",
       "      <td>151.529412</td>\n",
       "      <td>184.000000</td>\n",
       "      <td>352.000000</td>\n",
       "      <td>206.388889</td>\n",
       "      <td>...</td>\n",
       "      <td>21.200000</td>\n",
       "      <td>21.200000</td>\n",
       "      <td>31016.000000</td>\n",
       "      <td>2.000000</td>\n",
       "      <td>4.000000</td>\n",
       "      <td>4.000000</td>\n",
       "      <td>4.000000</td>\n",
       "      <td>4.000000</td>\n",
       "      <td>4.000000</td>\n",
       "      <td>20.000000</td>\n",
       "    </tr>\n",
       "  </tbody>\n",
       "</table>\n",
       "<p>8 rows × 58 columns</p>\n",
       "</div>"
      ],
      "text/plain": [
       "                age  heart_rate_min  heart_rate_max  heart_rate_mean  \\\n",
       "count  36489.000000    36417.000000    36417.000000     36417.000000   \n",
       "mean      65.907162       70.935003      103.109572        84.855578   \n",
       "std       16.797498       15.064109       20.682937        15.977454   \n",
       "min       18.002527        9.000000       36.000000        28.500000   \n",
       "25%       55.549252       60.000000       88.000000        73.321429   \n",
       "50%       67.439033       70.000000      101.000000        83.500000   \n",
       "75%       78.729524       80.000000      115.000000        95.250000   \n",
       "max      102.865603      163.000000      295.000000       174.740741   \n",
       "\n",
       "            mbp_min       mbp_max      mbp_mean       sbp_min       sbp_max  \\\n",
       "count  36401.000000  36401.000000  36401.000000  36343.000000  36343.000000   \n",
       "mean      60.429777    105.484634     79.255689     94.449898    147.691412   \n",
       "std       13.347348     23.346984     11.758700     16.705217     22.855348   \n",
       "min        0.830000     51.000000     42.513889      2.000000     49.000000   \n",
       "25%       53.000000     91.000000     70.896552     83.500000    132.000000   \n",
       "50%       60.000000    102.000000     77.851852     93.000000    146.000000   \n",
       "75%       68.000000    115.000000     86.382353    104.000000    161.000000   \n",
       "max      133.000000    299.000000    151.529412    184.000000    352.000000   \n",
       "\n",
       "           sbp_mean  ...  bilirubin_indirect_max  bilirubin_indirect_min  \\\n",
       "count  36343.000000  ...             1544.000000             1544.000000   \n",
       "mean     119.757827  ...                1.855894                1.742163   \n",
       "std       17.220898  ...                2.293747                2.219434   \n",
       "min       40.000000  ...                0.100000                0.100000   \n",
       "25%      107.096464  ...                0.500000                0.500000   \n",
       "50%      117.678571  ...                1.000000                1.000000   \n",
       "75%      130.649616  ...                2.200000                2.000000   \n",
       "max      206.388889  ...               21.200000               21.200000   \n",
       "\n",
       "        urineoutput  sofa_respiration  sofa_coagulation    sofa_liver  \\\n",
       "count  35073.000000       7587.000000      36235.000000  18590.000000   \n",
       "mean    1914.991284          1.723738          0.481109      0.514094   \n",
       "std     1266.887914          0.588464          0.825034      0.963752   \n",
       "min   -14850.000000          0.000000          0.000000      0.000000   \n",
       "25%     1050.000000          2.000000          0.000000      0.000000   \n",
       "50%     1667.000000          2.000000          0.000000      0.000000   \n",
       "75%     2500.000000          2.000000          1.000000      1.000000   \n",
       "max    31016.000000          2.000000          4.000000      4.000000   \n",
       "\n",
       "       sofa_cardiovascular      sofa_cns    sofa_renal  \\\n",
       "count         36402.000000  36468.000000  36467.000000   \n",
       "mean              1.060381      0.915433      0.826501   \n",
       "std               0.972511      1.050761      1.201510   \n",
       "min               0.000000      0.000000      0.000000   \n",
       "25%               1.000000      0.000000      0.000000   \n",
       "50%               1.000000      1.000000      0.000000   \n",
       "75%               1.000000      1.000000      1.000000   \n",
       "max               4.000000      4.000000      4.000000   \n",
       "\n",
       "       charlson_comorbidity_index  \n",
       "count                36489.000000  \n",
       "mean                     5.798104  \n",
       "std                      3.014789  \n",
       "min                      0.000000  \n",
       "25%                      4.000000  \n",
       "50%                      6.000000  \n",
       "75%                      8.000000  \n",
       "max                     20.000000  \n",
       "\n",
       "[8 rows x 58 columns]"
      ]
     },
     "execution_count": 6,
     "metadata": {},
     "output_type": "execute_result"
    }
   ],
   "source": [
    "data.describe() # statistics information"
   ]
  },
  {
   "cell_type": "code",
   "execution_count": 7,
   "id": "3d67d142",
   "metadata": {},
   "outputs": [
    {
     "name": "stdout",
     "output_type": "stream",
     "text": [
      "<class 'pandas.core.frame.DataFrame'>\n",
      "RangeIndex: 36489 entries, 0 to 36488\n",
      "Data columns (total 60 columns):\n",
      " #   Column                      Non-Null Count  Dtype  \n",
      "---  ------                      --------------  -----  \n",
      " 0   gender                      36489 non-null  object \n",
      " 1   age                         36489 non-null  float64\n",
      " 2   heart_rate_min              36417 non-null  float64\n",
      " 3   heart_rate_max              36417 non-null  float64\n",
      " 4   heart_rate_mean             36417 non-null  float64\n",
      " 5   mbp_min                     36401 non-null  float64\n",
      " 6   mbp_max                     36401 non-null  float64\n",
      " 7   mbp_mean                    36401 non-null  float64\n",
      " 8   sbp_min                     36343 non-null  float64\n",
      " 9   sbp_max                     36343 non-null  float64\n",
      " 10  sbp_mean                    36343 non-null  float64\n",
      " 11  dbp_min                     36341 non-null  float64\n",
      " 12  dbp_max                     36341 non-null  float64\n",
      " 13  dbp_mean                    36341 non-null  float64\n",
      " 14  temperature_min             36126 non-null  float64\n",
      " 15  temperature_max             36126 non-null  float64\n",
      " 16  temperature_mean            36126 non-null  float64\n",
      " 17  lactate_min                 15930 non-null  float64\n",
      " 18  lactate_max                 15930 non-null  float64\n",
      " 19  ph_min                      18860 non-null  float64\n",
      " 20  ph_max                      18860 non-null  float64\n",
      " 21  chloride_min                6129 non-null   float64\n",
      " 22  chloride_max                6129 non-null   float64\n",
      " 23  calcium_min                 9289 non-null   float64\n",
      " 24  calcium_max                 9289 non-null   float64\n",
      " 25  sodium_min                  6554 non-null   float64\n",
      " 26  sodium_max                  6554 non-null   float64\n",
      " 27  glucose_min                 36191 non-null  float64\n",
      " 28  glucose_max                 36191 non-null  float64\n",
      " 29  wbc_min                     36235 non-null  float64\n",
      " 30  wbc_max                     36235 non-null  float64\n",
      " 31  creatinine_min              36291 non-null  float64\n",
      " 32  creatinine_max              36291 non-null  float64\n",
      " 33  hemoglobin_min              36232 non-null  float64\n",
      " 34  hemoglobin_max              36232 non-null  float64\n",
      " 35  total_protein_max           974 non-null    float64\n",
      " 36  total_protein_min           974 non-null    float64\n",
      " 37  pt_min                      32345 non-null  float64\n",
      " 38  pt_max                      32345 non-null  float64\n",
      " 39  alt_max                     18663 non-null  float64\n",
      " 40  alt_min                     18663 non-null  float64\n",
      " 41  alp_max                     18580 non-null  float64\n",
      " 42  alp_min                     18580 non-null  float64\n",
      " 43  ast_min                     18776 non-null  float64\n",
      " 44  ast_max                     18776 non-null  float64\n",
      " 45  bilirubin_total_max         18590 non-null  float64\n",
      " 46  bilirubin_total_min         18590 non-null  float64\n",
      " 47  bilirubin_direct_max        1605 non-null   float64\n",
      " 48  bilirubin_direct_min        1605 non-null   float64\n",
      " 49  bilirubin_indirect_max      1544 non-null   float64\n",
      " 50  bilirubin_indirect_min      1544 non-null   float64\n",
      " 51  urineoutput                 35073 non-null  float64\n",
      " 52  sofa_respiration            7587 non-null   float64\n",
      " 53  sofa_coagulation            36235 non-null  float64\n",
      " 54  sofa_liver                  18590 non-null  float64\n",
      " 55  sofa_cardiovascular         36402 non-null  float64\n",
      " 56  sofa_cns                    36468 non-null  float64\n",
      " 57  sofa_renal                  36467 non-null  float64\n",
      " 58  charlson_comorbidity_index  36489 non-null  int64  \n",
      " 59  outcome                     36489 non-null  bool   \n",
      "dtypes: bool(1), float64(57), int64(1), object(1)\n",
      "memory usage: 16.5+ MB\n"
     ]
    }
   ],
   "source": [
    "data.info() # total: 36489 rows(observations), 60 columns. \"gender\" column is not numeric, \"outcome\" column is boolean type."
   ]
  },
  {
   "cell_type": "code",
   "execution_count": 8,
   "id": "f5d4865b",
   "metadata": {},
   "outputs": [],
   "source": [
    "miss_value_info = data.isnull().sum()/data.shape[0] # the percentage of the null value in each column, e.g, there is no null value in the \"gender\"\n",
    "#column, but 97.3% of values from the \"bilirubin_indirect_min\" column is not available."
   ]
  },
  {
   "cell_type": "code",
   "execution_count": 9,
   "id": "0854931f",
   "metadata": {
    "scrolled": true
   },
   "outputs": [
    {
     "data": {
      "text/plain": [
       "Text(0.5, 1.0, 'Missing Values in Each Column')"
      ]
     },
     "execution_count": 9,
     "metadata": {},
     "output_type": "execute_result"
    },
    {
     "data": {
      "image/png": "[encoded data removed]",
      "text/plain": [
       "<Figure size 1080x720 with 1 Axes>"
      ]
     },
     "metadata": {
      "needs_background": "light"
     },
     "output_type": "display_data"
    }
   ],
   "source": [
    "plt.figure(figsize=(15,10))\n",
    "plt.barh(miss_value_info.index, miss_value_info.values)\n",
    "plt.title(\"Missing Values in Each Column\")"
   ]
  },
  {
   "cell_type": "markdown",
   "id": "0feb59db",
   "metadata": {},
   "source": [
    "Step 4. select feature"
   ]
  },
  {
   "cell_type": "code",
   "execution_count": 10,
   "id": "dac407d4",
   "metadata": {},
   "outputs": [],
   "source": [
    "data[\"gender\"] = data[\"gender\"].replace([\"M\", \"F\"], [1, 0]) # change the data type of \"gender\" column to numeric\n",
    "data_corr = data.corr()"
   ]
  },
  {
   "cell_type": "code",
   "execution_count": 11,
   "id": "8823bc28",
   "metadata": {},
   "outputs": [
    {
     "data": {
      "text/plain": [
       "gender                        0.022012\n",
       "age                          -0.003918\n",
       "heart_rate_min                0.048639\n",
       "heart_rate_max                0.045058\n",
       "heart_rate_mean               0.049708\n",
       "mbp_min                      -0.023086\n",
       "mbp_max                       0.015115\n",
       "mbp_mean                     -0.008394\n",
       "sbp_min                      -0.021668\n",
       "sbp_max                       0.013655\n",
       "sbp_mean                     -0.009604\n",
       "dbp_min                      -0.018966\n",
       "dbp_max                      -0.000061\n",
       "dbp_mean                     -0.012944\n",
       "temperature_min               0.004061\n",
       "temperature_max               0.040501\n",
       "temperature_mean              0.029228\n",
       "lactate_min                   0.060591\n",
       "lactate_max                   0.061802\n",
       "ph_min                       -0.001908\n",
       "ph_max                        0.002350\n",
       "chloride_min                  0.004667\n",
       "chloride_max                 -0.016667\n",
       "calcium_min                  -0.033824\n",
       "calcium_max                  -0.071799\n",
       "sodium_min                    0.003657\n",
       "sodium_max                   -0.020347\n",
       "glucose_min                   0.020739\n",
       "glucose_max                   0.003197\n",
       "wbc_min                       0.023342\n",
       "wbc_max                       0.022221\n",
       "creatinine_min                0.020483\n",
       "creatinine_max                0.020012\n",
       "hemoglobin_min               -0.015683\n",
       "hemoglobin_max               -0.008469\n",
       "total_protein_max            -0.042472\n",
       "total_protein_min            -0.042666\n",
       "pt_min                        0.033786\n",
       "pt_max                        0.042471\n",
       "alt_max                       0.021712\n",
       "alt_min                       0.027306\n",
       "alp_max                       0.004072\n",
       "alp_min                       0.002690\n",
       "ast_min                       0.045479\n",
       "ast_max                       0.039510\n",
       "bilirubin_total_max           0.060022\n",
       "bilirubin_total_min           0.058026\n",
       "bilirubin_direct_max          0.053937\n",
       "bilirubin_direct_min          0.055941\n",
       "bilirubin_indirect_max        0.065696\n",
       "bilirubin_indirect_min        0.071673\n",
       "urineoutput                  -0.042158\n",
       "sofa_respiration              0.042679\n",
       "sofa_coagulation              0.031736\n",
       "sofa_liver                    0.061504\n",
       "sofa_cardiovascular           0.027977\n",
       "sofa_cns                      0.204914\n",
       "sofa_renal                    0.033321\n",
       "charlson_comorbidity_index    0.028839\n",
       "outcome                       1.000000\n",
       "Name: outcome, dtype: float64"
      ]
     },
     "execution_count": 11,
     "metadata": {},
     "output_type": "execute_result"
    }
   ],
   "source": [
    "data_corr[\"outcome\"]"
   ]
  },
  {
   "cell_type": "code",
   "execution_count": 12,
   "id": "df5c1cfd",
   "metadata": {},
   "outputs": [],
   "source": [
    "feature_selected = data.columns[data_corr[\"outcome\"].abs() > .04].drop(\"outcome\")"
   ]
  },
  {
   "cell_type": "code",
   "execution_count": 13,
   "id": "eb6562c7",
   "metadata": {},
   "outputs": [],
   "source": [
    "X_train = data[feature_selected] # features\n",
    "y_train = data[\"outcome\"] # outcome"
   ]
  },
  {
   "cell_type": "code",
   "execution_count": 14,
   "id": "86b21e5b",
   "metadata": {},
   "outputs": [],
   "source": [
    "num_proc = make_pipeline(StandardScaler(), SimpleImputer(missing_values=np.nan, strategy='mean')) # standardscale the \n",
    "#numeric columns and fill the null value with the mean value of the corresponding column\n",
    "\n",
    "preprocessor = make_column_transformer((num_proc, X_train.select_dtypes(include = \"number\").columns))"
   ]
  },
  {
   "cell_type": "code",
   "execution_count": 15,
   "id": "b8673537",
   "metadata": {},
   "outputs": [
    {
     "data": {
      "text/html": [
       "<style>#sk-container-id-1 {color: black;background-color: white;}#sk-container-id-1 pre{padding: 0;}#sk-container-id-1 div.sk-toggleable {background-color: white;}#sk-container-id-1 label.sk-toggleable__label {cursor: pointer;display: block;width: 100%;margin-bottom: 0;padding: 0.3em;box-sizing: border-box;text-align: center;}#sk-container-id-1 label.sk-toggleable__label-arrow:before {content: \"▸\";float: left;margin-right: 0.25em;color: #696969;}#sk-container-id-1 label.sk-toggleable__label-arrow:hover:before {color: black;}#sk-container-id-1 div.sk-estimator:hover label.sk-toggleable__label-arrow:before {color: black;}#sk-container-id-1 div.sk-toggleable__content {max-height: 0;max-width: 0;overflow: hidden;text-align: left;background-color: #f0f8ff;}#sk-container-id-1 div.sk-toggleable__content pre {margin: 0.2em;color: black;border-radius: 0.25em;background-color: #f0f8ff;}#sk-container-id-1 input.sk-toggleable__control:checked~div.sk-toggleable__content {max-height: 200px;max-width: 100%;overflow: auto;}#sk-container-id-1 input.sk-toggleable__control:checked~label.sk-toggleable__label-arrow:before {content: \"▾\";}#sk-container-id-1 div.sk-estimator input.sk-toggleable__control:checked~label.sk-toggleable__label {background-color: #d4ebff;}#sk-container-id-1 div.sk-label input.sk-toggleable__control:checked~label.sk-toggleable__label {background-color: #d4ebff;}#sk-container-id-1 input.sk-hidden--visually {border: 0;clip: rect(1px 1px 1px 1px);clip: rect(1px, 1px, 1px, 1px);height: 1px;margin: -1px;overflow: hidden;padding: 0;position: absolute;width: 1px;}#sk-container-id-1 div.sk-estimator {font-family: monospace;background-color: #f0f8ff;border: 1px dotted black;border-radius: 0.25em;box-sizing: border-box;margin-bottom: 0.5em;}#sk-container-id-1 div.sk-estimator:hover {background-color: #d4ebff;}#sk-container-id-1 div.sk-parallel-item::after {content: \"\";width: 100%;border-bottom: 1px solid gray;flex-grow: 1;}#sk-container-id-1 div.sk-label:hover label.sk-toggleable__label {background-color: #d4ebff;}#sk-container-id-1 div.sk-serial::before {content: \"\";position: absolute;border-left: 1px solid gray;box-sizing: border-box;top: 0;bottom: 0;left: 50%;z-index: 0;}#sk-container-id-1 div.sk-serial {display: flex;flex-direction: column;align-items: center;background-color: white;padding-right: 0.2em;padding-left: 0.2em;position: relative;}#sk-container-id-1 div.sk-item {position: relative;z-index: 1;}#sk-container-id-1 div.sk-parallel {display: flex;align-items: stretch;justify-content: center;background-color: white;position: relative;}#sk-container-id-1 div.sk-item::before, #sk-container-id-1 div.sk-parallel-item::before {content: \"\";position: absolute;border-left: 1px solid gray;box-sizing: border-box;top: 0;bottom: 0;left: 50%;z-index: -1;}#sk-container-id-1 div.sk-parallel-item {display: flex;flex-direction: column;z-index: 1;position: relative;background-color: white;}#sk-container-id-1 div.sk-parallel-item:first-child::after {align-self: flex-end;width: 50%;}#sk-container-id-1 div.sk-parallel-item:last-child::after {align-self: flex-start;width: 50%;}#sk-container-id-1 div.sk-parallel-item:only-child::after {width: 0;}#sk-container-id-1 div.sk-dashed-wrapped {border: 1px dashed gray;margin: 0 0.4em 0.5em 0.4em;box-sizing: border-box;padding-bottom: 0.4em;background-color: white;}#sk-container-id-1 div.sk-label label {font-family: monospace;font-weight: bold;display: inline-block;line-height: 1.2em;}#sk-container-id-1 div.sk-label-container {text-align: center;}#sk-container-id-1 div.sk-container {/* jupyter's `normalize.less` sets `[hidden] { display: none; }` but bootstrap.min.css set `[hidden] { display: none !important; }` so we also need the `!important` here to be able to override the default hidden behavior on the sphinx rendered scikit-learn.org. See: https://github.com/scikit-learn/scikit-learn/issues/21755 */display: inline-block !important;position: relative;}#sk-container-id-1 div.sk-text-repr-fallback {display: none;}</style><div id=\"sk-container-id-1\" class=\"sk-top-container\"><div class=\"sk-text-repr-fallback\"><pre>Pipeline(steps=[(&#x27;columntransformer&#x27;,\n",
       "                 ColumnTransformer(transformers=[(&#x27;pipeline&#x27;,\n",
       "                                                  Pipeline(steps=[(&#x27;standardscaler&#x27;,\n",
       "                                                                   StandardScaler()),\n",
       "                                                                  (&#x27;simpleimputer&#x27;,\n",
       "                                                                   SimpleImputer())]),\n",
       "                                                  Index([&#x27;heart_rate_min&#x27;, &#x27;heart_rate_max&#x27;, &#x27;heart_rate_mean&#x27;,\n",
       "       &#x27;temperature_max&#x27;, &#x27;lactate_min&#x27;, &#x27;lactate_max&#x27;, &#x27;calcium_max&#x27;,\n",
       "       &#x27;total_protein_max&#x27;, &#x27;total_protein_min&#x27;, &#x27;pt_max&#x27;, &#x27;ast_min&#x27;,\n",
       "       &#x27;bilirubin_total_max&#x27;, &#x27;bilirubin_total_min&#x27;, &#x27;bilirubin_direct_max&#x27;,\n",
       "       &#x27;bilirubin_direct_min&#x27;, &#x27;bilirubin_indirect_max&#x27;,\n",
       "       &#x27;bilirubin_indirect_min&#x27;, &#x27;urineoutput&#x27;, &#x27;sofa_respiration&#x27;,\n",
       "       &#x27;sofa_liver&#x27;, &#x27;sofa_cns&#x27;],\n",
       "      dtype=&#x27;object&#x27;))])),\n",
       "                (&#x27;randomforestclassifier&#x27;,\n",
       "                 RandomForestClassifier(class_weight=&#x27;balanced&#x27;, max_depth=5,\n",
       "                                        random_state=0))])</pre><b>In a Jupyter environment, please rerun this cell to show the HTML representation or trust the notebook. <br />On GitHub, the HTML representation is unable to render, please try loading this page with nbviewer.org.</b></div><div class=\"sk-container\" hidden><div class=\"sk-item sk-dashed-wrapped\"><div class=\"sk-label-container\"><div class=\"sk-label sk-toggleable\"><input class=\"sk-toggleable__control sk-hidden--visually\" id=\"sk-estimator-id-1\" type=\"checkbox\" ><label for=\"sk-estimator-id-1\" class=\"sk-toggleable__label sk-toggleable__label-arrow\">Pipeline</label><div class=\"sk-toggleable__content\"><pre>Pipeline(steps=[(&#x27;columntransformer&#x27;,\n",
       "                 ColumnTransformer(transformers=[(&#x27;pipeline&#x27;,\n",
       "                                                  Pipeline(steps=[(&#x27;standardscaler&#x27;,\n",
       "                                                                   StandardScaler()),\n",
       "                                                                  (&#x27;simpleimputer&#x27;,\n",
       "                                                                   SimpleImputer())]),\n",
       "                                                  Index([&#x27;heart_rate_min&#x27;, &#x27;heart_rate_max&#x27;, &#x27;heart_rate_mean&#x27;,\n",
       "       &#x27;temperature_max&#x27;, &#x27;lactate_min&#x27;, &#x27;lactate_max&#x27;, &#x27;calcium_max&#x27;,\n",
       "       &#x27;total_protein_max&#x27;, &#x27;total_protein_min&#x27;, &#x27;pt_max&#x27;, &#x27;ast_min&#x27;,\n",
       "       &#x27;bilirubin_total_max&#x27;, &#x27;bilirubin_total_min&#x27;, &#x27;bilirubin_direct_max&#x27;,\n",
       "       &#x27;bilirubin_direct_min&#x27;, &#x27;bilirubin_indirect_max&#x27;,\n",
       "       &#x27;bilirubin_indirect_min&#x27;, &#x27;urineoutput&#x27;, &#x27;sofa_respiration&#x27;,\n",
       "       &#x27;sofa_liver&#x27;, &#x27;sofa_cns&#x27;],\n",
       "      dtype=&#x27;object&#x27;))])),\n",
       "                (&#x27;randomforestclassifier&#x27;,\n",
       "                 RandomForestClassifier(class_weight=&#x27;balanced&#x27;, max_depth=5,\n",
       "                                        random_state=0))])</pre></div></div></div><div class=\"sk-serial\"><div class=\"sk-item sk-dashed-wrapped\"><div class=\"sk-label-container\"><div class=\"sk-label sk-toggleable\"><input class=\"sk-toggleable__control sk-hidden--visually\" id=\"sk-estimator-id-2\" type=\"checkbox\" ><label for=\"sk-estimator-id-2\" class=\"sk-toggleable__label sk-toggleable__label-arrow\">columntransformer: ColumnTransformer</label><div class=\"sk-toggleable__content\"><pre>ColumnTransformer(transformers=[(&#x27;pipeline&#x27;,\n",
       "                                 Pipeline(steps=[(&#x27;standardscaler&#x27;,\n",
       "                                                  StandardScaler()),\n",
       "                                                 (&#x27;simpleimputer&#x27;,\n",
       "                                                  SimpleImputer())]),\n",
       "                                 Index([&#x27;heart_rate_min&#x27;, &#x27;heart_rate_max&#x27;, &#x27;heart_rate_mean&#x27;,\n",
       "       &#x27;temperature_max&#x27;, &#x27;lactate_min&#x27;, &#x27;lactate_max&#x27;, &#x27;calcium_max&#x27;,\n",
       "       &#x27;total_protein_max&#x27;, &#x27;total_protein_min&#x27;, &#x27;pt_max&#x27;, &#x27;ast_min&#x27;,\n",
       "       &#x27;bilirubin_total_max&#x27;, &#x27;bilirubin_total_min&#x27;, &#x27;bilirubin_direct_max&#x27;,\n",
       "       &#x27;bilirubin_direct_min&#x27;, &#x27;bilirubin_indirect_max&#x27;,\n",
       "       &#x27;bilirubin_indirect_min&#x27;, &#x27;urineoutput&#x27;, &#x27;sofa_respiration&#x27;,\n",
       "       &#x27;sofa_liver&#x27;, &#x27;sofa_cns&#x27;],\n",
       "      dtype=&#x27;object&#x27;))])</pre></div></div></div><div class=\"sk-parallel\"><div class=\"sk-parallel-item\"><div class=\"sk-item\"><div class=\"sk-label-container\"><div class=\"sk-label sk-toggleable\"><input class=\"sk-toggleable__control sk-hidden--visually\" id=\"sk-estimator-id-3\" type=\"checkbox\" ><label for=\"sk-estimator-id-3\" class=\"sk-toggleable__label sk-toggleable__label-arrow\">pipeline</label><div class=\"sk-toggleable__content\"><pre>Index([&#x27;heart_rate_min&#x27;, &#x27;heart_rate_max&#x27;, &#x27;heart_rate_mean&#x27;,\n",
       "       &#x27;temperature_max&#x27;, &#x27;lactate_min&#x27;, &#x27;lactate_max&#x27;, &#x27;calcium_max&#x27;,\n",
       "       &#x27;total_protein_max&#x27;, &#x27;total_protein_min&#x27;, &#x27;pt_max&#x27;, &#x27;ast_min&#x27;,\n",
       "       &#x27;bilirubin_total_max&#x27;, &#x27;bilirubin_total_min&#x27;, &#x27;bilirubin_direct_max&#x27;,\n",
       "       &#x27;bilirubin_direct_min&#x27;, &#x27;bilirubin_indirect_max&#x27;,\n",
       "       &#x27;bilirubin_indirect_min&#x27;, &#x27;urineoutput&#x27;, &#x27;sofa_respiration&#x27;,\n",
       "       &#x27;sofa_liver&#x27;, &#x27;sofa_cns&#x27;],\n",
       "      dtype=&#x27;object&#x27;)</pre></div></div></div><div class=\"sk-serial\"><div class=\"sk-item\"><div class=\"sk-serial\"><div class=\"sk-item\"><div class=\"sk-estimator sk-toggleable\"><input class=\"sk-toggleable__control sk-hidden--visually\" id=\"sk-estimator-id-4\" type=\"checkbox\" ><label for=\"sk-estimator-id-4\" class=\"sk-toggleable__label sk-toggleable__label-arrow\">StandardScaler</label><div class=\"sk-toggleable__content\"><pre>StandardScaler()</pre></div></div></div><div class=\"sk-item\"><div class=\"sk-estimator sk-toggleable\"><input class=\"sk-toggleable__control sk-hidden--visually\" id=\"sk-estimator-id-5\" type=\"checkbox\" ><label for=\"sk-estimator-id-5\" class=\"sk-toggleable__label sk-toggleable__label-arrow\">SimpleImputer</label><div class=\"sk-toggleable__content\"><pre>SimpleImputer()</pre></div></div></div></div></div></div></div></div></div></div><div class=\"sk-item\"><div class=\"sk-estimator sk-toggleable\"><input class=\"sk-toggleable__control sk-hidden--visually\" id=\"sk-estimator-id-6\" type=\"checkbox\" ><label for=\"sk-estimator-id-6\" class=\"sk-toggleable__label sk-toggleable__label-arrow\">RandomForestClassifier</label><div class=\"sk-toggleable__content\"><pre>RandomForestClassifier(class_weight=&#x27;balanced&#x27;, max_depth=5, random_state=0)</pre></div></div></div></div></div></div></div>"
      ],
      "text/plain": [
       "Pipeline(steps=[('columntransformer',\n",
       "                 ColumnTransformer(transformers=[('pipeline',\n",
       "                                                  Pipeline(steps=[('standardscaler',\n",
       "                                                                   StandardScaler()),\n",
       "                                                                  ('simpleimputer',\n",
       "                                                                   SimpleImputer())]),\n",
       "                                                  Index(['heart_rate_min', 'heart_rate_max', 'heart_rate_mean',\n",
       "       'temperature_max', 'lactate_min', 'lactate_max', 'calcium_max',\n",
       "       'total_protein_max', 'total_protein_min', 'pt_max', 'ast_min',\n",
       "       'bilirubin_total_max', 'bilirubin_total_min', 'bilirubin_direct_max',\n",
       "       'bilirubin_direct_min', 'bilirubin_indirect_max',\n",
       "       'bilirubin_indirect_min', 'urineoutput', 'sofa_respiration',\n",
       "       'sofa_liver', 'sofa_cns'],\n",
       "      dtype='object'))])),\n",
       "                ('randomforestclassifier',\n",
       "                 RandomForestClassifier(class_weight='balanced', max_depth=5,\n",
       "                                        random_state=0))])"
      ]
     },
     "execution_count": 15,
     "metadata": {},
     "output_type": "execute_result"
    }
   ],
   "source": [
    "model_rf = make_pipeline(preprocessor,\n",
    "                          RandomForestClassifier(max_depth=5, random_state=0, class_weight = \"balanced\"))\n",
    "model_rf.fit(X_train, y_train)"
   ]
  },
  {
   "cell_type": "code",
   "execution_count": 16,
   "id": "67498efa",
   "metadata": {
    "scrolled": true
   },
   "outputs": [
    {
     "data": {
      "image/png": "[encoded data removed]",
      "text/plain": [
       "<Figure size 720x360 with 1 Axes>"
      ]
     },
     "metadata": {
      "needs_background": "light"
     },
     "output_type": "display_data"
    }
   ],
   "source": [
    "feature_names = X_train.columns\n",
    "importances = model_rf[1].feature_importances_\n",
    "\n",
    "forest_importances = pd.Series(importances, index=feature_names)\n",
    "\n",
    "forest_importances.sort_values(ascending = False, inplace = True)\n",
    "\n",
    "fig, ax = plt.subplots(figsize = (10, 5))\n",
    "forest_importances.plot.barh(ax=ax)\n",
    "ax.set_title(\"Feature Importances\")\n",
    "fig.tight_layout()"
   ]
  },
  {
   "cell_type": "code",
   "execution_count": 17,
   "id": "5d214cf2",
   "metadata": {},
   "outputs": [
    {
     "data": {
      "text/plain": [
       "['sofa_cns',\n",
       " 'sofa_respiration',\n",
       " 'calcium_max',\n",
       " 'lactate_min',\n",
       " 'urineoutput',\n",
       " 'lactate_max',\n",
       " 'heart_rate_mean',\n",
       " 'bilirubin_total_max',\n",
       " 'temperature_max',\n",
       " 'heart_rate_min']"
      ]
     },
     "execution_count": 17,
     "metadata": {},
     "output_type": "execute_result"
    }
   ],
   "source": [
    "importances_dict = dict(zip(importances, feature_names))\n",
    "heapq.nlargest(10, importances)\n",
    "feature_selected = list(itemgetter(*heapq.nlargest(10, importances))(importances_dict))\n",
    "feature_selected"
   ]
  },
  {
   "cell_type": "markdown",
   "id": "b2220a39",
   "metadata": {},
   "source": [
    "Step 5. preprocess data"
   ]
  },
  {
   "cell_type": "code",
   "execution_count": 18,
   "id": "eefaa9f4",
   "metadata": {},
   "outputs": [],
   "source": [
    "X_train = data[feature_selected] # features\n",
    "y_train = data[\"outcome\"] # outcome"
   ]
  },
  {
   "cell_type": "code",
   "execution_count": 20,
   "id": "33507b75",
   "metadata": {},
   "outputs": [
    {
     "data": {
      "text/plain": [
       "Text(0.5, 1.0, 'Heatmap of Selected Features and Outcome')"
      ]
     },
     "execution_count": 20,
     "metadata": {},
     "output_type": "execute_result"
    },
    {
     "data": {
      "image/png": "[encoded data removed]",
      "text/plain": [
       "<Figure size 432x288 with 2 Axes>"
      ]
     },
     "metadata": {
      "needs_background": "light"
     },
     "output_type": "display_data"
    }
   ],
   "source": [
    "final_data_train_cols = feature_selected.copy()\n",
    "final_data_train_cols.append(\"outcome\")\n",
    "final_data_train = data[final_data_train_cols]\n",
    "data_corr = final_data_train.corr()\n",
    "\n",
    "heat_p = sns.heatmap(data = data_corr, square = True)\n",
    "heat_p.set_title(\"Heatmap of Selected Features and Outcome\")"
   ]
  },
  {
   "cell_type": "markdown",
   "id": "acba3718",
   "metadata": {},
   "source": [
    "Step 6. implement three models."
   ]
  },
  {
   "cell_type": "code",
   "execution_count": 22,
   "id": "4c45406e",
   "metadata": {},
   "outputs": [],
   "source": [
    "num_proc = make_pipeline(StandardScaler(), SimpleImputer(missing_values=np.nan, strategy='mean')) # standardscale the \n",
    "#numeric columns and fill the null value with the mean value of the corresponding column\n",
    "\n",
    "preprocessor = make_column_transformer((num_proc, X_train.select_dtypes(include = \"number\").columns))"
   ]
  },
  {
   "cell_type": "code",
   "execution_count": 20,
   "id": "3a8a3202",
   "metadata": {
    "scrolled": true
   },
   "outputs": [
    {
     "data": {
      "text/html": [
       "<style>#sk-container-id-2 {color: black;background-color: white;}#sk-container-id-2 pre{padding: 0;}#sk-container-id-2 div.sk-toggleable {background-color: white;}#sk-container-id-2 label.sk-toggleable__label {cursor: pointer;display: block;width: 100%;margin-bottom: 0;padding: 0.3em;box-sizing: border-box;text-align: center;}#sk-container-id-2 label.sk-toggleable__label-arrow:before {content: \"▸\";float: left;margin-right: 0.25em;color: #696969;}#sk-container-id-2 label.sk-toggleable__label-arrow:hover:before {color: black;}#sk-container-id-2 div.sk-estimator:hover label.sk-toggleable__label-arrow:before {color: black;}#sk-container-id-2 div.sk-toggleable__content {max-height: 0;max-width: 0;overflow: hidden;text-align: left;background-color: #f0f8ff;}#sk-container-id-2 div.sk-toggleable__content pre {margin: 0.2em;color: black;border-radius: 0.25em;background-color: #f0f8ff;}#sk-container-id-2 input.sk-toggleable__control:checked~div.sk-toggleable__content {max-height: 200px;max-width: 100%;overflow: auto;}#sk-container-id-2 input.sk-toggleable__control:checked~label.sk-toggleable__label-arrow:before {content: \"▾\";}#sk-container-id-2 div.sk-estimator input.sk-toggleable__control:checked~label.sk-toggleable__label {background-color: #d4ebff;}#sk-container-id-2 div.sk-label input.sk-toggleable__control:checked~label.sk-toggleable__label {background-color: #d4ebff;}#sk-container-id-2 input.sk-hidden--visually {border: 0;clip: rect(1px 1px 1px 1px);clip: rect(1px, 1px, 1px, 1px);height: 1px;margin: -1px;overflow: hidden;padding: 0;position: absolute;width: 1px;}#sk-container-id-2 div.sk-estimator {font-family: monospace;background-color: #f0f8ff;border: 1px dotted black;border-radius: 0.25em;box-sizing: border-box;margin-bottom: 0.5em;}#sk-container-id-2 div.sk-estimator:hover {background-color: #d4ebff;}#sk-container-id-2 div.sk-parallel-item::after {content: \"\";width: 100%;border-bottom: 1px solid gray;flex-grow: 1;}#sk-container-id-2 div.sk-label:hover label.sk-toggleable__label {background-color: #d4ebff;}#sk-container-id-2 div.sk-serial::before {content: \"\";position: absolute;border-left: 1px solid gray;box-sizing: border-box;top: 0;bottom: 0;left: 50%;z-index: 0;}#sk-container-id-2 div.sk-serial {display: flex;flex-direction: column;align-items: center;background-color: white;padding-right: 0.2em;padding-left: 0.2em;position: relative;}#sk-container-id-2 div.sk-item {position: relative;z-index: 1;}#sk-container-id-2 div.sk-parallel {display: flex;align-items: stretch;justify-content: center;background-color: white;position: relative;}#sk-container-id-2 div.sk-item::before, #sk-container-id-2 div.sk-parallel-item::before {content: \"\";position: absolute;border-left: 1px solid gray;box-sizing: border-box;top: 0;bottom: 0;left: 50%;z-index: -1;}#sk-container-id-2 div.sk-parallel-item {display: flex;flex-direction: column;z-index: 1;position: relative;background-color: white;}#sk-container-id-2 div.sk-parallel-item:first-child::after {align-self: flex-end;width: 50%;}#sk-container-id-2 div.sk-parallel-item:last-child::after {align-self: flex-start;width: 50%;}#sk-container-id-2 div.sk-parallel-item:only-child::after {width: 0;}#sk-container-id-2 div.sk-dashed-wrapped {border: 1px dashed gray;margin: 0 0.4em 0.5em 0.4em;box-sizing: border-box;padding-bottom: 0.4em;background-color: white;}#sk-container-id-2 div.sk-label label {font-family: monospace;font-weight: bold;display: inline-block;line-height: 1.2em;}#sk-container-id-2 div.sk-label-container {text-align: center;}#sk-container-id-2 div.sk-container {/* jupyter's `normalize.less` sets `[hidden] { display: none; }` but bootstrap.min.css set `[hidden] { display: none !important; }` so we also need the `!important` here to be able to override the default hidden behavior on the sphinx rendered scikit-learn.org. See: https://github.com/scikit-learn/scikit-learn/issues/21755 */display: inline-block !important;position: relative;}#sk-container-id-2 div.sk-text-repr-fallback {display: none;}</style><div id=\"sk-container-id-2\" class=\"sk-top-container\"><div class=\"sk-text-repr-fallback\"><pre>Pipeline(steps=[(&#x27;columntransformer&#x27;,\n",
       "                 ColumnTransformer(transformers=[(&#x27;pipeline&#x27;,\n",
       "                                                  Pipeline(steps=[(&#x27;standardscaler&#x27;,\n",
       "                                                                   StandardScaler()),\n",
       "                                                                  (&#x27;simpleimputer&#x27;,\n",
       "                                                                   SimpleImputer())]),\n",
       "                                                  Index([&#x27;sofa_cns&#x27;, &#x27;sofa_respiration&#x27;, &#x27;calcium_max&#x27;, &#x27;lactate_min&#x27;,\n",
       "       &#x27;urineoutput&#x27;, &#x27;lactate_max&#x27;, &#x27;heart_rate_mean&#x27;, &#x27;bilirubin_total_max&#x27;,\n",
       "       &#x27;temperature_max&#x27;, &#x27;heart_rate_min&#x27;],\n",
       "      dtype=&#x27;object&#x27;))])),\n",
       "                (&#x27;svc&#x27;, SVC(class_weight=&#x27;balanced&#x27;))])</pre><b>In a Jupyter environment, please rerun this cell to show the HTML representation or trust the notebook. <br />On GitHub, the HTML representation is unable to render, please try loading this page with nbviewer.org.</b></div><div class=\"sk-container\" hidden><div class=\"sk-item sk-dashed-wrapped\"><div class=\"sk-label-container\"><div class=\"sk-label sk-toggleable\"><input class=\"sk-toggleable__control sk-hidden--visually\" id=\"sk-estimator-id-7\" type=\"checkbox\" ><label for=\"sk-estimator-id-7\" class=\"sk-toggleable__label sk-toggleable__label-arrow\">Pipeline</label><div class=\"sk-toggleable__content\"><pre>Pipeline(steps=[(&#x27;columntransformer&#x27;,\n",
       "                 ColumnTransformer(transformers=[(&#x27;pipeline&#x27;,\n",
       "                                                  Pipeline(steps=[(&#x27;standardscaler&#x27;,\n",
       "                                                                   StandardScaler()),\n",
       "                                                                  (&#x27;simpleimputer&#x27;,\n",
       "                                                                   SimpleImputer())]),\n",
       "                                                  Index([&#x27;sofa_cns&#x27;, &#x27;sofa_respiration&#x27;, &#x27;calcium_max&#x27;, &#x27;lactate_min&#x27;,\n",
       "       &#x27;urineoutput&#x27;, &#x27;lactate_max&#x27;, &#x27;heart_rate_mean&#x27;, &#x27;bilirubin_total_max&#x27;,\n",
       "       &#x27;temperature_max&#x27;, &#x27;heart_rate_min&#x27;],\n",
       "      dtype=&#x27;object&#x27;))])),\n",
       "                (&#x27;svc&#x27;, SVC(class_weight=&#x27;balanced&#x27;))])</pre></div></div></div><div class=\"sk-serial\"><div class=\"sk-item sk-dashed-wrapped\"><div class=\"sk-label-container\"><div class=\"sk-label sk-toggleable\"><input class=\"sk-toggleable__control sk-hidden--visually\" id=\"sk-estimator-id-8\" type=\"checkbox\" ><label for=\"sk-estimator-id-8\" class=\"sk-toggleable__label sk-toggleable__label-arrow\">columntransformer: ColumnTransformer</label><div class=\"sk-toggleable__content\"><pre>ColumnTransformer(transformers=[(&#x27;pipeline&#x27;,\n",
       "                                 Pipeline(steps=[(&#x27;standardscaler&#x27;,\n",
       "                                                  StandardScaler()),\n",
       "                                                 (&#x27;simpleimputer&#x27;,\n",
       "                                                  SimpleImputer())]),\n",
       "                                 Index([&#x27;sofa_cns&#x27;, &#x27;sofa_respiration&#x27;, &#x27;calcium_max&#x27;, &#x27;lactate_min&#x27;,\n",
       "       &#x27;urineoutput&#x27;, &#x27;lactate_max&#x27;, &#x27;heart_rate_mean&#x27;, &#x27;bilirubin_total_max&#x27;,\n",
       "       &#x27;temperature_max&#x27;, &#x27;heart_rate_min&#x27;],\n",
       "      dtype=&#x27;object&#x27;))])</pre></div></div></div><div class=\"sk-parallel\"><div class=\"sk-parallel-item\"><div class=\"sk-item\"><div class=\"sk-label-container\"><div class=\"sk-label sk-toggleable\"><input class=\"sk-toggleable__control sk-hidden--visually\" id=\"sk-estimator-id-9\" type=\"checkbox\" ><label for=\"sk-estimator-id-9\" class=\"sk-toggleable__label sk-toggleable__label-arrow\">pipeline</label><div class=\"sk-toggleable__content\"><pre>Index([&#x27;sofa_cns&#x27;, &#x27;sofa_respiration&#x27;, &#x27;calcium_max&#x27;, &#x27;lactate_min&#x27;,\n",
       "       &#x27;urineoutput&#x27;, &#x27;lactate_max&#x27;, &#x27;heart_rate_mean&#x27;, &#x27;bilirubin_total_max&#x27;,\n",
       "       &#x27;temperature_max&#x27;, &#x27;heart_rate_min&#x27;],\n",
       "      dtype=&#x27;object&#x27;)</pre></div></div></div><div class=\"sk-serial\"><div class=\"sk-item\"><div class=\"sk-serial\"><div class=\"sk-item\"><div class=\"sk-estimator sk-toggleable\"><input class=\"sk-toggleable__control sk-hidden--visually\" id=\"sk-estimator-id-10\" type=\"checkbox\" ><label for=\"sk-estimator-id-10\" class=\"sk-toggleable__label sk-toggleable__label-arrow\">StandardScaler</label><div class=\"sk-toggleable__content\"><pre>StandardScaler()</pre></div></div></div><div class=\"sk-item\"><div class=\"sk-estimator sk-toggleable\"><input class=\"sk-toggleable__control sk-hidden--visually\" id=\"sk-estimator-id-11\" type=\"checkbox\" ><label for=\"sk-estimator-id-11\" class=\"sk-toggleable__label sk-toggleable__label-arrow\">SimpleImputer</label><div class=\"sk-toggleable__content\"><pre>SimpleImputer()</pre></div></div></div></div></div></div></div></div></div></div><div class=\"sk-item\"><div class=\"sk-estimator sk-toggleable\"><input class=\"sk-toggleable__control sk-hidden--visually\" id=\"sk-estimator-id-12\" type=\"checkbox\" ><label for=\"sk-estimator-id-12\" class=\"sk-toggleable__label sk-toggleable__label-arrow\">SVC</label><div class=\"sk-toggleable__content\"><pre>SVC(class_weight=&#x27;balanced&#x27;)</pre></div></div></div></div></div></div></div>"
      ],
      "text/plain": [
       "Pipeline(steps=[('columntransformer',\n",
       "                 ColumnTransformer(transformers=[('pipeline',\n",
       "                                                  Pipeline(steps=[('standardscaler',\n",
       "                                                                   StandardScaler()),\n",
       "                                                                  ('simpleimputer',\n",
       "                                                                   SimpleImputer())]),\n",
       "                                                  Index(['sofa_cns', 'sofa_respiration', 'calcium_max', 'lactate_min',\n",
       "       'urineoutput', 'lactate_max', 'heart_rate_mean', 'bilirubin_total_max',\n",
       "       'temperature_max', 'heart_rate_min'],\n",
       "      dtype='object'))])),\n",
       "                ('svc', SVC(class_weight='balanced'))])"
      ]
     },
     "execution_count": 20,
     "metadata": {},
     "output_type": "execute_result"
    }
   ],
   "source": [
    "model_svc = make_pipeline(preprocessor,\n",
    "                          svm.SVC(class_weight = \"balanced\"))\n",
    "model_svc.fit(X_train, y_train) # feed the data to the svc model"
   ]
  },
  {
   "cell_type": "code",
   "execution_count": 21,
   "id": "d2322f5d",
   "metadata": {},
   "outputs": [],
   "source": [
    "cv_results_svc = cross_validate(model_svc, X_train, y_train, cv=3, scoring=('recall', 'f1', 'accuracy'))"
   ]
  },
  {
   "cell_type": "code",
   "execution_count": 22,
   "id": "416a6532",
   "metadata": {},
   "outputs": [
    {
     "data": {
      "text/html": [
       "<style>#sk-container-id-3 {color: black;background-color: white;}#sk-container-id-3 pre{padding: 0;}#sk-container-id-3 div.sk-toggleable {background-color: white;}#sk-container-id-3 label.sk-toggleable__label {cursor: pointer;display: block;width: 100%;margin-bottom: 0;padding: 0.3em;box-sizing: border-box;text-align: center;}#sk-container-id-3 label.sk-toggleable__label-arrow:before {content: \"▸\";float: left;margin-right: 0.25em;color: #696969;}#sk-container-id-3 label.sk-toggleable__label-arrow:hover:before {color: black;}#sk-container-id-3 div.sk-estimator:hover label.sk-toggleable__label-arrow:before {color: black;}#sk-container-id-3 div.sk-toggleable__content {max-height: 0;max-width: 0;overflow: hidden;text-align: left;background-color: #f0f8ff;}#sk-container-id-3 div.sk-toggleable__content pre {margin: 0.2em;color: black;border-radius: 0.25em;background-color: #f0f8ff;}#sk-container-id-3 input.sk-toggleable__control:checked~div.sk-toggleable__content {max-height: 200px;max-width: 100%;overflow: auto;}#sk-container-id-3 input.sk-toggleable__control:checked~label.sk-toggleable__label-arrow:before {content: \"▾\";}#sk-container-id-3 div.sk-estimator input.sk-toggleable__control:checked~label.sk-toggleable__label {background-color: #d4ebff;}#sk-container-id-3 div.sk-label input.sk-toggleable__control:checked~label.sk-toggleable__label {background-color: #d4ebff;}#sk-container-id-3 input.sk-hidden--visually {border: 0;clip: rect(1px 1px 1px 1px);clip: rect(1px, 1px, 1px, 1px);height: 1px;margin: -1px;overflow: hidden;padding: 0;position: absolute;width: 1px;}#sk-container-id-3 div.sk-estimator {font-family: monospace;background-color: #f0f8ff;border: 1px dotted black;border-radius: 0.25em;box-sizing: border-box;margin-bottom: 0.5em;}#sk-container-id-3 div.sk-estimator:hover {background-color: #d4ebff;}#sk-container-id-3 div.sk-parallel-item::after {content: \"\";width: 100%;border-bottom: 1px solid gray;flex-grow: 1;}#sk-container-id-3 div.sk-label:hover label.sk-toggleable__label {background-color: #d4ebff;}#sk-container-id-3 div.sk-serial::before {content: \"\";position: absolute;border-left: 1px solid gray;box-sizing: border-box;top: 0;bottom: 0;left: 50%;z-index: 0;}#sk-container-id-3 div.sk-serial {display: flex;flex-direction: column;align-items: center;background-color: white;padding-right: 0.2em;padding-left: 0.2em;position: relative;}#sk-container-id-3 div.sk-item {position: relative;z-index: 1;}#sk-container-id-3 div.sk-parallel {display: flex;align-items: stretch;justify-content: center;background-color: white;position: relative;}#sk-container-id-3 div.sk-item::before, #sk-container-id-3 div.sk-parallel-item::before {content: \"\";position: absolute;border-left: 1px solid gray;box-sizing: border-box;top: 0;bottom: 0;left: 50%;z-index: -1;}#sk-container-id-3 div.sk-parallel-item {display: flex;flex-direction: column;z-index: 1;position: relative;background-color: white;}#sk-container-id-3 div.sk-parallel-item:first-child::after {align-self: flex-end;width: 50%;}#sk-container-id-3 div.sk-parallel-item:last-child::after {align-self: flex-start;width: 50%;}#sk-container-id-3 div.sk-parallel-item:only-child::after {width: 0;}#sk-container-id-3 div.sk-dashed-wrapped {border: 1px dashed gray;margin: 0 0.4em 0.5em 0.4em;box-sizing: border-box;padding-bottom: 0.4em;background-color: white;}#sk-container-id-3 div.sk-label label {font-family: monospace;font-weight: bold;display: inline-block;line-height: 1.2em;}#sk-container-id-3 div.sk-label-container {text-align: center;}#sk-container-id-3 div.sk-container {/* jupyter's `normalize.less` sets `[hidden] { display: none; }` but bootstrap.min.css set `[hidden] { display: none !important; }` so we also need the `!important` here to be able to override the default hidden behavior on the sphinx rendered scikit-learn.org. See: https://github.com/scikit-learn/scikit-learn/issues/21755 */display: inline-block !important;position: relative;}#sk-container-id-3 div.sk-text-repr-fallback {display: none;}</style><div id=\"sk-container-id-3\" class=\"sk-top-container\"><div class=\"sk-text-repr-fallback\"><pre>Pipeline(steps=[(&#x27;columntransformer&#x27;,\n",
       "                 ColumnTransformer(transformers=[(&#x27;pipeline&#x27;,\n",
       "                                                  Pipeline(steps=[(&#x27;standardscaler&#x27;,\n",
       "                                                                   StandardScaler()),\n",
       "                                                                  (&#x27;simpleimputer&#x27;,\n",
       "                                                                   SimpleImputer())]),\n",
       "                                                  Index([&#x27;sofa_cns&#x27;, &#x27;sofa_respiration&#x27;, &#x27;calcium_max&#x27;, &#x27;lactate_min&#x27;,\n",
       "       &#x27;urineoutput&#x27;, &#x27;lactate_max&#x27;, &#x27;heart_rate_mean&#x27;, &#x27;bilirubin_total_max&#x27;,\n",
       "       &#x27;temperature_max&#x27;, &#x27;heart_rate_min&#x27;],\n",
       "      dtype=&#x27;object&#x27;))])),\n",
       "                (&#x27;logisticregression&#x27;,\n",
       "                 LogisticRegression(class_weight=&#x27;balanced&#x27;, max_iter=1000,\n",
       "                                    random_state=0))])</pre><b>In a Jupyter environment, please rerun this cell to show the HTML representation or trust the notebook. <br />On GitHub, the HTML representation is unable to render, please try loading this page with nbviewer.org.</b></div><div class=\"sk-container\" hidden><div class=\"sk-item sk-dashed-wrapped\"><div class=\"sk-label-container\"><div class=\"sk-label sk-toggleable\"><input class=\"sk-toggleable__control sk-hidden--visually\" id=\"sk-estimator-id-13\" type=\"checkbox\" ><label for=\"sk-estimator-id-13\" class=\"sk-toggleable__label sk-toggleable__label-arrow\">Pipeline</label><div class=\"sk-toggleable__content\"><pre>Pipeline(steps=[(&#x27;columntransformer&#x27;,\n",
       "                 ColumnTransformer(transformers=[(&#x27;pipeline&#x27;,\n",
       "                                                  Pipeline(steps=[(&#x27;standardscaler&#x27;,\n",
       "                                                                   StandardScaler()),\n",
       "                                                                  (&#x27;simpleimputer&#x27;,\n",
       "                                                                   SimpleImputer())]),\n",
       "                                                  Index([&#x27;sofa_cns&#x27;, &#x27;sofa_respiration&#x27;, &#x27;calcium_max&#x27;, &#x27;lactate_min&#x27;,\n",
       "       &#x27;urineoutput&#x27;, &#x27;lactate_max&#x27;, &#x27;heart_rate_mean&#x27;, &#x27;bilirubin_total_max&#x27;,\n",
       "       &#x27;temperature_max&#x27;, &#x27;heart_rate_min&#x27;],\n",
       "      dtype=&#x27;object&#x27;))])),\n",
       "                (&#x27;logisticregression&#x27;,\n",
       "                 LogisticRegression(class_weight=&#x27;balanced&#x27;, max_iter=1000,\n",
       "                                    random_state=0))])</pre></div></div></div><div class=\"sk-serial\"><div class=\"sk-item sk-dashed-wrapped\"><div class=\"sk-label-container\"><div class=\"sk-label sk-toggleable\"><input class=\"sk-toggleable__control sk-hidden--visually\" id=\"sk-estimator-id-14\" type=\"checkbox\" ><label for=\"sk-estimator-id-14\" class=\"sk-toggleable__label sk-toggleable__label-arrow\">columntransformer: ColumnTransformer</label><div class=\"sk-toggleable__content\"><pre>ColumnTransformer(transformers=[(&#x27;pipeline&#x27;,\n",
       "                                 Pipeline(steps=[(&#x27;standardscaler&#x27;,\n",
       "                                                  StandardScaler()),\n",
       "                                                 (&#x27;simpleimputer&#x27;,\n",
       "                                                  SimpleImputer())]),\n",
       "                                 Index([&#x27;sofa_cns&#x27;, &#x27;sofa_respiration&#x27;, &#x27;calcium_max&#x27;, &#x27;lactate_min&#x27;,\n",
       "       &#x27;urineoutput&#x27;, &#x27;lactate_max&#x27;, &#x27;heart_rate_mean&#x27;, &#x27;bilirubin_total_max&#x27;,\n",
       "       &#x27;temperature_max&#x27;, &#x27;heart_rate_min&#x27;],\n",
       "      dtype=&#x27;object&#x27;))])</pre></div></div></div><div class=\"sk-parallel\"><div class=\"sk-parallel-item\"><div class=\"sk-item\"><div class=\"sk-label-container\"><div class=\"sk-label sk-toggleable\"><input class=\"sk-toggleable__control sk-hidden--visually\" id=\"sk-estimator-id-15\" type=\"checkbox\" ><label for=\"sk-estimator-id-15\" class=\"sk-toggleable__label sk-toggleable__label-arrow\">pipeline</label><div class=\"sk-toggleable__content\"><pre>Index([&#x27;sofa_cns&#x27;, &#x27;sofa_respiration&#x27;, &#x27;calcium_max&#x27;, &#x27;lactate_min&#x27;,\n",
       "       &#x27;urineoutput&#x27;, &#x27;lactate_max&#x27;, &#x27;heart_rate_mean&#x27;, &#x27;bilirubin_total_max&#x27;,\n",
       "       &#x27;temperature_max&#x27;, &#x27;heart_rate_min&#x27;],\n",
       "      dtype=&#x27;object&#x27;)</pre></div></div></div><div class=\"sk-serial\"><div class=\"sk-item\"><div class=\"sk-serial\"><div class=\"sk-item\"><div class=\"sk-estimator sk-toggleable\"><input class=\"sk-toggleable__control sk-hidden--visually\" id=\"sk-estimator-id-16\" type=\"checkbox\" ><label for=\"sk-estimator-id-16\" class=\"sk-toggleable__label sk-toggleable__label-arrow\">StandardScaler</label><div class=\"sk-toggleable__content\"><pre>StandardScaler()</pre></div></div></div><div class=\"sk-item\"><div class=\"sk-estimator sk-toggleable\"><input class=\"sk-toggleable__control sk-hidden--visually\" id=\"sk-estimator-id-17\" type=\"checkbox\" ><label for=\"sk-estimator-id-17\" class=\"sk-toggleable__label sk-toggleable__label-arrow\">SimpleImputer</label><div class=\"sk-toggleable__content\"><pre>SimpleImputer()</pre></div></div></div></div></div></div></div></div></div></div><div class=\"sk-item\"><div class=\"sk-estimator sk-toggleable\"><input class=\"sk-toggleable__control sk-hidden--visually\" id=\"sk-estimator-id-18\" type=\"checkbox\" ><label for=\"sk-estimator-id-18\" class=\"sk-toggleable__label sk-toggleable__label-arrow\">LogisticRegression</label><div class=\"sk-toggleable__content\"><pre>LogisticRegression(class_weight=&#x27;balanced&#x27;, max_iter=1000, random_state=0)</pre></div></div></div></div></div></div></div>"
      ],
      "text/plain": [
       "Pipeline(steps=[('columntransformer',\n",
       "                 ColumnTransformer(transformers=[('pipeline',\n",
       "                                                  Pipeline(steps=[('standardscaler',\n",
       "                                                                   StandardScaler()),\n",
       "                                                                  ('simpleimputer',\n",
       "                                                                   SimpleImputer())]),\n",
       "                                                  Index(['sofa_cns', 'sofa_respiration', 'calcium_max', 'lactate_min',\n",
       "       'urineoutput', 'lactate_max', 'heart_rate_mean', 'bilirubin_total_max',\n",
       "       'temperature_max', 'heart_rate_min'],\n",
       "      dtype='object'))])),\n",
       "                ('logisticregression',\n",
       "                 LogisticRegression(class_weight='balanced', max_iter=1000,\n",
       "                                    random_state=0))])"
      ]
     },
     "execution_count": 22,
     "metadata": {},
     "output_type": "execute_result"
    }
   ],
   "source": [
    "model_lr = make_pipeline(preprocessor,\n",
    "                          LogisticRegression(random_state=0, class_weight = \"balanced\", max_iter = 1000))\n",
    "model_lr.fit(X_train, y_train) # feed the data to the logistic regression model"
   ]
  },
  {
   "cell_type": "code",
   "execution_count": 23,
   "id": "0e31fdc4",
   "metadata": {},
   "outputs": [
    {
     "data": {
      "text/plain": [
       "{'fit_time': array([0.06506991, 0.09369063, 0.0781076 ]),\n",
       " 'score_time': array([0.01565933, 0.01562023, 0.01565337]),\n",
       " 'test_recall': array([0.63656885, 0.65011287, 0.64559819]),\n",
       " 'test_f1': array([0.1681073 , 0.17214585, 0.1717202 ]),\n",
       " 'test_accuracy': array([0.77053359, 0.77226013, 0.77316452])}"
      ]
     },
     "execution_count": 23,
     "metadata": {},
     "output_type": "execute_result"
    }
   ],
   "source": [
    "cv_results_lr = cross_validate(model_lr, X_train, y_train, cv=3, scoring=('recall', 'f1', 'accuracy'))\n",
    "cv_results_lr"
   ]
  },
  {
   "cell_type": "code",
   "execution_count": 35,
   "id": "89355542",
   "metadata": {},
   "outputs": [
    {
     "data": {
      "text/html": [
       "<style>#sk-container-id-5 {color: black;background-color: white;}#sk-container-id-5 pre{padding: 0;}#sk-container-id-5 div.sk-toggleable {background-color: white;}#sk-container-id-5 label.sk-toggleable__label {cursor: pointer;display: block;width: 100%;margin-bottom: 0;padding: 0.3em;box-sizing: border-box;text-align: center;}#sk-container-id-5 label.sk-toggleable__label-arrow:before {content: \"▸\";float: left;margin-right: 0.25em;color: #696969;}#sk-container-id-5 label.sk-toggleable__label-arrow:hover:before {color: black;}#sk-container-id-5 div.sk-estimator:hover label.sk-toggleable__label-arrow:before {color: black;}#sk-container-id-5 div.sk-toggleable__content {max-height: 0;max-width: 0;overflow: hidden;text-align: left;background-color: #f0f8ff;}#sk-container-id-5 div.sk-toggleable__content pre {margin: 0.2em;color: black;border-radius: 0.25em;background-color: #f0f8ff;}#sk-container-id-5 input.sk-toggleable__control:checked~div.sk-toggleable__content {max-height: 200px;max-width: 100%;overflow: auto;}#sk-container-id-5 input.sk-toggleable__control:checked~label.sk-toggleable__label-arrow:before {content: \"▾\";}#sk-container-id-5 div.sk-estimator input.sk-toggleable__control:checked~label.sk-toggleable__label {background-color: #d4ebff;}#sk-container-id-5 div.sk-label input.sk-toggleable__control:checked~label.sk-toggleable__label {background-color: #d4ebff;}#sk-container-id-5 input.sk-hidden--visually {border: 0;clip: rect(1px 1px 1px 1px);clip: rect(1px, 1px, 1px, 1px);height: 1px;margin: -1px;overflow: hidden;padding: 0;position: absolute;width: 1px;}#sk-container-id-5 div.sk-estimator {font-family: monospace;background-color: #f0f8ff;border: 1px dotted black;border-radius: 0.25em;box-sizing: border-box;margin-bottom: 0.5em;}#sk-container-id-5 div.sk-estimator:hover {background-color: #d4ebff;}#sk-container-id-5 div.sk-parallel-item::after {content: \"\";width: 100%;border-bottom: 1px solid gray;flex-grow: 1;}#sk-container-id-5 div.sk-label:hover label.sk-toggleable__label {background-color: #d4ebff;}#sk-container-id-5 div.sk-serial::before {content: \"\";position: absolute;border-left: 1px solid gray;box-sizing: border-box;top: 0;bottom: 0;left: 50%;z-index: 0;}#sk-container-id-5 div.sk-serial {display: flex;flex-direction: column;align-items: center;background-color: white;padding-right: 0.2em;padding-left: 0.2em;position: relative;}#sk-container-id-5 div.sk-item {position: relative;z-index: 1;}#sk-container-id-5 div.sk-parallel {display: flex;align-items: stretch;justify-content: center;background-color: white;position: relative;}#sk-container-id-5 div.sk-item::before, #sk-container-id-5 div.sk-parallel-item::before {content: \"\";position: absolute;border-left: 1px solid gray;box-sizing: border-box;top: 0;bottom: 0;left: 50%;z-index: -1;}#sk-container-id-5 div.sk-parallel-item {display: flex;flex-direction: column;z-index: 1;position: relative;background-color: white;}#sk-container-id-5 div.sk-parallel-item:first-child::after {align-self: flex-end;width: 50%;}#sk-container-id-5 div.sk-parallel-item:last-child::after {align-self: flex-start;width: 50%;}#sk-container-id-5 div.sk-parallel-item:only-child::after {width: 0;}#sk-container-id-5 div.sk-dashed-wrapped {border: 1px dashed gray;margin: 0 0.4em 0.5em 0.4em;box-sizing: border-box;padding-bottom: 0.4em;background-color: white;}#sk-container-id-5 div.sk-label label {font-family: monospace;font-weight: bold;display: inline-block;line-height: 1.2em;}#sk-container-id-5 div.sk-label-container {text-align: center;}#sk-container-id-5 div.sk-container {/* jupyter's `normalize.less` sets `[hidden] { display: none; }` but bootstrap.min.css set `[hidden] { display: none !important; }` so we also need the `!important` here to be able to override the default hidden behavior on the sphinx rendered scikit-learn.org. See: https://github.com/scikit-learn/scikit-learn/issues/21755 */display: inline-block !important;position: relative;}#sk-container-id-5 div.sk-text-repr-fallback {display: none;}</style><div id=\"sk-container-id-5\" class=\"sk-top-container\"><div class=\"sk-text-repr-fallback\"><pre>Pipeline(steps=[(&#x27;columntransformer&#x27;,\n",
       "                 ColumnTransformer(transformers=[(&#x27;pipeline&#x27;,\n",
       "                                                  Pipeline(steps=[(&#x27;standardscaler&#x27;,\n",
       "                                                                   StandardScaler()),\n",
       "                                                                  (&#x27;simpleimputer&#x27;,\n",
       "                                                                   SimpleImputer())]),\n",
       "                                                  Index([&#x27;sofa_cns&#x27;, &#x27;sofa_respiration&#x27;, &#x27;calcium_max&#x27;, &#x27;lactate_min&#x27;,\n",
       "       &#x27;urineoutput&#x27;, &#x27;lactate_max&#x27;, &#x27;heart_rate_mean&#x27;, &#x27;bilirubin_total_max&#x27;,\n",
       "       &#x27;temperature_max&#x27;, &#x27;heart_rate_min&#x27;],\n",
       "      dtype=&#x27;object&#x27;))])),\n",
       "                (&#x27;decisiontreeclassifier&#x27;,\n",
       "                 DecisionTreeClassifier(class_weight=&#x27;balanced&#x27;, max_depth=7,\n",
       "                                        random_state=0))])</pre><b>In a Jupyter environment, please rerun this cell to show the HTML representation or trust the notebook. <br />On GitHub, the HTML representation is unable to render, please try loading this page with nbviewer.org.</b></div><div class=\"sk-container\" hidden><div class=\"sk-item sk-dashed-wrapped\"><div class=\"sk-label-container\"><div class=\"sk-label sk-toggleable\"><input class=\"sk-toggleable__control sk-hidden--visually\" id=\"sk-estimator-id-25\" type=\"checkbox\" ><label for=\"sk-estimator-id-25\" class=\"sk-toggleable__label sk-toggleable__label-arrow\">Pipeline</label><div class=\"sk-toggleable__content\"><pre>Pipeline(steps=[(&#x27;columntransformer&#x27;,\n",
       "                 ColumnTransformer(transformers=[(&#x27;pipeline&#x27;,\n",
       "                                                  Pipeline(steps=[(&#x27;standardscaler&#x27;,\n",
       "                                                                   StandardScaler()),\n",
       "                                                                  (&#x27;simpleimputer&#x27;,\n",
       "                                                                   SimpleImputer())]),\n",
       "                                                  Index([&#x27;sofa_cns&#x27;, &#x27;sofa_respiration&#x27;, &#x27;calcium_max&#x27;, &#x27;lactate_min&#x27;,\n",
       "       &#x27;urineoutput&#x27;, &#x27;lactate_max&#x27;, &#x27;heart_rate_mean&#x27;, &#x27;bilirubin_total_max&#x27;,\n",
       "       &#x27;temperature_max&#x27;, &#x27;heart_rate_min&#x27;],\n",
       "      dtype=&#x27;object&#x27;))])),\n",
       "                (&#x27;decisiontreeclassifier&#x27;,\n",
       "                 DecisionTreeClassifier(class_weight=&#x27;balanced&#x27;, max_depth=7,\n",
       "                                        random_state=0))])</pre></div></div></div><div class=\"sk-serial\"><div class=\"sk-item sk-dashed-wrapped\"><div class=\"sk-label-container\"><div class=\"sk-label sk-toggleable\"><input class=\"sk-toggleable__control sk-hidden--visually\" id=\"sk-estimator-id-26\" type=\"checkbox\" ><label for=\"sk-estimator-id-26\" class=\"sk-toggleable__label sk-toggleable__label-arrow\">columntransformer: ColumnTransformer</label><div class=\"sk-toggleable__content\"><pre>ColumnTransformer(transformers=[(&#x27;pipeline&#x27;,\n",
       "                                 Pipeline(steps=[(&#x27;standardscaler&#x27;,\n",
       "                                                  StandardScaler()),\n",
       "                                                 (&#x27;simpleimputer&#x27;,\n",
       "                                                  SimpleImputer())]),\n",
       "                                 Index([&#x27;sofa_cns&#x27;, &#x27;sofa_respiration&#x27;, &#x27;calcium_max&#x27;, &#x27;lactate_min&#x27;,\n",
       "       &#x27;urineoutput&#x27;, &#x27;lactate_max&#x27;, &#x27;heart_rate_mean&#x27;, &#x27;bilirubin_total_max&#x27;,\n",
       "       &#x27;temperature_max&#x27;, &#x27;heart_rate_min&#x27;],\n",
       "      dtype=&#x27;object&#x27;))])</pre></div></div></div><div class=\"sk-parallel\"><div class=\"sk-parallel-item\"><div class=\"sk-item\"><div class=\"sk-label-container\"><div class=\"sk-label sk-toggleable\"><input class=\"sk-toggleable__control sk-hidden--visually\" id=\"sk-estimator-id-27\" type=\"checkbox\" ><label for=\"sk-estimator-id-27\" class=\"sk-toggleable__label sk-toggleable__label-arrow\">pipeline</label><div class=\"sk-toggleable__content\"><pre>Index([&#x27;sofa_cns&#x27;, &#x27;sofa_respiration&#x27;, &#x27;calcium_max&#x27;, &#x27;lactate_min&#x27;,\n",
       "       &#x27;urineoutput&#x27;, &#x27;lactate_max&#x27;, &#x27;heart_rate_mean&#x27;, &#x27;bilirubin_total_max&#x27;,\n",
       "       &#x27;temperature_max&#x27;, &#x27;heart_rate_min&#x27;],\n",
       "      dtype=&#x27;object&#x27;)</pre></div></div></div><div class=\"sk-serial\"><div class=\"sk-item\"><div class=\"sk-serial\"><div class=\"sk-item\"><div class=\"sk-estimator sk-toggleable\"><input class=\"sk-toggleable__control sk-hidden--visually\" id=\"sk-estimator-id-28\" type=\"checkbox\" ><label for=\"sk-estimator-id-28\" class=\"sk-toggleable__label sk-toggleable__label-arrow\">StandardScaler</label><div class=\"sk-toggleable__content\"><pre>StandardScaler()</pre></div></div></div><div class=\"sk-item\"><div class=\"sk-estimator sk-toggleable\"><input class=\"sk-toggleable__control sk-hidden--visually\" id=\"sk-estimator-id-29\" type=\"checkbox\" ><label for=\"sk-estimator-id-29\" class=\"sk-toggleable__label sk-toggleable__label-arrow\">SimpleImputer</label><div class=\"sk-toggleable__content\"><pre>SimpleImputer()</pre></div></div></div></div></div></div></div></div></div></div><div class=\"sk-item\"><div class=\"sk-estimator sk-toggleable\"><input class=\"sk-toggleable__control sk-hidden--visually\" id=\"sk-estimator-id-30\" type=\"checkbox\" ><label for=\"sk-estimator-id-30\" class=\"sk-toggleable__label sk-toggleable__label-arrow\">DecisionTreeClassifier</label><div class=\"sk-toggleable__content\"><pre>DecisionTreeClassifier(class_weight=&#x27;balanced&#x27;, max_depth=7, random_state=0)</pre></div></div></div></div></div></div></div>"
      ],
      "text/plain": [
       "Pipeline(steps=[('columntransformer',\n",
       "                 ColumnTransformer(transformers=[('pipeline',\n",
       "                                                  Pipeline(steps=[('standardscaler',\n",
       "                                                                   StandardScaler()),\n",
       "                                                                  ('simpleimputer',\n",
       "                                                                   SimpleImputer())]),\n",
       "                                                  Index(['sofa_cns', 'sofa_respiration', 'calcium_max', 'lactate_min',\n",
       "       'urineoutput', 'lactate_max', 'heart_rate_mean', 'bilirubin_total_max',\n",
       "       'temperature_max', 'heart_rate_min'],\n",
       "      dtype='object'))])),\n",
       "                ('decisiontreeclassifier',\n",
       "                 DecisionTreeClassifier(class_weight='balanced', max_depth=7,\n",
       "                                        random_state=0))])"
      ]
     },
     "execution_count": 35,
     "metadata": {},
     "output_type": "execute_result"
    }
   ],
   "source": [
    "model_dt = make_pipeline(preprocessor,\n",
    "                          DecisionTreeClassifier(random_state=0, max_depth = 7, class_weight = \"balanced\"))\n",
    "model_dt.fit(X_train, y_train) # feed the data to the decision tree model"
   ]
  },
  {
   "cell_type": "code",
   "execution_count": 36,
   "id": "bb88ad91",
   "metadata": {},
   "outputs": [
    {
     "data": {
      "text/html": [
       "<style>#sk-container-id-6 {color: black;background-color: white;}#sk-container-id-6 pre{padding: 0;}#sk-container-id-6 div.sk-toggleable {background-color: white;}#sk-container-id-6 label.sk-toggleable__label {cursor: pointer;display: block;width: 100%;margin-bottom: 0;padding: 0.3em;box-sizing: border-box;text-align: center;}#sk-container-id-6 label.sk-toggleable__label-arrow:before {content: \"▸\";float: left;margin-right: 0.25em;color: #696969;}#sk-container-id-6 label.sk-toggleable__label-arrow:hover:before {color: black;}#sk-container-id-6 div.sk-estimator:hover label.sk-toggleable__label-arrow:before {color: black;}#sk-container-id-6 div.sk-toggleable__content {max-height: 0;max-width: 0;overflow: hidden;text-align: left;background-color: #f0f8ff;}#sk-container-id-6 div.sk-toggleable__content pre {margin: 0.2em;color: black;border-radius: 0.25em;background-color: #f0f8ff;}#sk-container-id-6 input.sk-toggleable__control:checked~div.sk-toggleable__content {max-height: 200px;max-width: 100%;overflow: auto;}#sk-container-id-6 input.sk-toggleable__control:checked~label.sk-toggleable__label-arrow:before {content: \"▾\";}#sk-container-id-6 div.sk-estimator input.sk-toggleable__control:checked~label.sk-toggleable__label {background-color: #d4ebff;}#sk-container-id-6 div.sk-label input.sk-toggleable__control:checked~label.sk-toggleable__label {background-color: #d4ebff;}#sk-container-id-6 input.sk-hidden--visually {border: 0;clip: rect(1px 1px 1px 1px);clip: rect(1px, 1px, 1px, 1px);height: 1px;margin: -1px;overflow: hidden;padding: 0;position: absolute;width: 1px;}#sk-container-id-6 div.sk-estimator {font-family: monospace;background-color: #f0f8ff;border: 1px dotted black;border-radius: 0.25em;box-sizing: border-box;margin-bottom: 0.5em;}#sk-container-id-6 div.sk-estimator:hover {background-color: #d4ebff;}#sk-container-id-6 div.sk-parallel-item::after {content: \"\";width: 100%;border-bottom: 1px solid gray;flex-grow: 1;}#sk-container-id-6 div.sk-label:hover label.sk-toggleable__label {background-color: #d4ebff;}#sk-container-id-6 div.sk-serial::before {content: \"\";position: absolute;border-left: 1px solid gray;box-sizing: border-box;top: 0;bottom: 0;left: 50%;z-index: 0;}#sk-container-id-6 div.sk-serial {display: flex;flex-direction: column;align-items: center;background-color: white;padding-right: 0.2em;padding-left: 0.2em;position: relative;}#sk-container-id-6 div.sk-item {position: relative;z-index: 1;}#sk-container-id-6 div.sk-parallel {display: flex;align-items: stretch;justify-content: center;background-color: white;position: relative;}#sk-container-id-6 div.sk-item::before, #sk-container-id-6 div.sk-parallel-item::before {content: \"\";position: absolute;border-left: 1px solid gray;box-sizing: border-box;top: 0;bottom: 0;left: 50%;z-index: -1;}#sk-container-id-6 div.sk-parallel-item {display: flex;flex-direction: column;z-index: 1;position: relative;background-color: white;}#sk-container-id-6 div.sk-parallel-item:first-child::after {align-self: flex-end;width: 50%;}#sk-container-id-6 div.sk-parallel-item:last-child::after {align-self: flex-start;width: 50%;}#sk-container-id-6 div.sk-parallel-item:only-child::after {width: 0;}#sk-container-id-6 div.sk-dashed-wrapped {border: 1px dashed gray;margin: 0 0.4em 0.5em 0.4em;box-sizing: border-box;padding-bottom: 0.4em;background-color: white;}#sk-container-id-6 div.sk-label label {font-family: monospace;font-weight: bold;display: inline-block;line-height: 1.2em;}#sk-container-id-6 div.sk-label-container {text-align: center;}#sk-container-id-6 div.sk-container {/* jupyter's `normalize.less` sets `[hidden] { display: none; }` but bootstrap.min.css set `[hidden] { display: none !important; }` so we also need the `!important` here to be able to override the default hidden behavior on the sphinx rendered scikit-learn.org. See: https://github.com/scikit-learn/scikit-learn/issues/21755 */display: inline-block !important;position: relative;}#sk-container-id-6 div.sk-text-repr-fallback {display: none;}</style><div id=\"sk-container-id-6\" class=\"sk-top-container\"><div class=\"sk-text-repr-fallback\"><pre>Pipeline(steps=[(&#x27;columntransformer&#x27;,\n",
       "                 ColumnTransformer(transformers=[(&#x27;pipeline&#x27;,\n",
       "                                                  Pipeline(steps=[(&#x27;standardscaler&#x27;,\n",
       "                                                                   StandardScaler()),\n",
       "                                                                  (&#x27;simpleimputer&#x27;,\n",
       "                                                                   SimpleImputer())]),\n",
       "                                                  Index([&#x27;sofa_cns&#x27;, &#x27;sofa_respiration&#x27;, &#x27;calcium_max&#x27;, &#x27;lactate_min&#x27;,\n",
       "       &#x27;urineoutput&#x27;, &#x27;lactate_max&#x27;, &#x27;heart_rate_mean&#x27;, &#x27;bilirubin_total_max&#x27;,\n",
       "       &#x27;temperature_max&#x27;, &#x27;heart_rate_min&#x27;],\n",
       "      dtype=&#x27;object&#x27;))])),\n",
       "                (&#x27;decisiontreeclassifier&#x27;,\n",
       "                 DecisionTreeClassifier(class_weight=&#x27;balanced&#x27;, max_depth=3,\n",
       "                                        random_state=0))])</pre><b>In a Jupyter environment, please rerun this cell to show the HTML representation or trust the notebook. <br />On GitHub, the HTML representation is unable to render, please try loading this page with nbviewer.org.</b></div><div class=\"sk-container\" hidden><div class=\"sk-item sk-dashed-wrapped\"><div class=\"sk-label-container\"><div class=\"sk-label sk-toggleable\"><input class=\"sk-toggleable__control sk-hidden--visually\" id=\"sk-estimator-id-31\" type=\"checkbox\" ><label for=\"sk-estimator-id-31\" class=\"sk-toggleable__label sk-toggleable__label-arrow\">Pipeline</label><div class=\"sk-toggleable__content\"><pre>Pipeline(steps=[(&#x27;columntransformer&#x27;,\n",
       "                 ColumnTransformer(transformers=[(&#x27;pipeline&#x27;,\n",
       "                                                  Pipeline(steps=[(&#x27;standardscaler&#x27;,\n",
       "                                                                   StandardScaler()),\n",
       "                                                                  (&#x27;simpleimputer&#x27;,\n",
       "                                                                   SimpleImputer())]),\n",
       "                                                  Index([&#x27;sofa_cns&#x27;, &#x27;sofa_respiration&#x27;, &#x27;calcium_max&#x27;, &#x27;lactate_min&#x27;,\n",
       "       &#x27;urineoutput&#x27;, &#x27;lactate_max&#x27;, &#x27;heart_rate_mean&#x27;, &#x27;bilirubin_total_max&#x27;,\n",
       "       &#x27;temperature_max&#x27;, &#x27;heart_rate_min&#x27;],\n",
       "      dtype=&#x27;object&#x27;))])),\n",
       "                (&#x27;decisiontreeclassifier&#x27;,\n",
       "                 DecisionTreeClassifier(class_weight=&#x27;balanced&#x27;, max_depth=3,\n",
       "                                        random_state=0))])</pre></div></div></div><div class=\"sk-serial\"><div class=\"sk-item sk-dashed-wrapped\"><div class=\"sk-label-container\"><div class=\"sk-label sk-toggleable\"><input class=\"sk-toggleable__control sk-hidden--visually\" id=\"sk-estimator-id-32\" type=\"checkbox\" ><label for=\"sk-estimator-id-32\" class=\"sk-toggleable__label sk-toggleable__label-arrow\">columntransformer: ColumnTransformer</label><div class=\"sk-toggleable__content\"><pre>ColumnTransformer(transformers=[(&#x27;pipeline&#x27;,\n",
       "                                 Pipeline(steps=[(&#x27;standardscaler&#x27;,\n",
       "                                                  StandardScaler()),\n",
       "                                                 (&#x27;simpleimputer&#x27;,\n",
       "                                                  SimpleImputer())]),\n",
       "                                 Index([&#x27;sofa_cns&#x27;, &#x27;sofa_respiration&#x27;, &#x27;calcium_max&#x27;, &#x27;lactate_min&#x27;,\n",
       "       &#x27;urineoutput&#x27;, &#x27;lactate_max&#x27;, &#x27;heart_rate_mean&#x27;, &#x27;bilirubin_total_max&#x27;,\n",
       "       &#x27;temperature_max&#x27;, &#x27;heart_rate_min&#x27;],\n",
       "      dtype=&#x27;object&#x27;))])</pre></div></div></div><div class=\"sk-parallel\"><div class=\"sk-parallel-item\"><div class=\"sk-item\"><div class=\"sk-label-container\"><div class=\"sk-label sk-toggleable\"><input class=\"sk-toggleable__control sk-hidden--visually\" id=\"sk-estimator-id-33\" type=\"checkbox\" ><label for=\"sk-estimator-id-33\" class=\"sk-toggleable__label sk-toggleable__label-arrow\">pipeline</label><div class=\"sk-toggleable__content\"><pre>Index([&#x27;sofa_cns&#x27;, &#x27;sofa_respiration&#x27;, &#x27;calcium_max&#x27;, &#x27;lactate_min&#x27;,\n",
       "       &#x27;urineoutput&#x27;, &#x27;lactate_max&#x27;, &#x27;heart_rate_mean&#x27;, &#x27;bilirubin_total_max&#x27;,\n",
       "       &#x27;temperature_max&#x27;, &#x27;heart_rate_min&#x27;],\n",
       "      dtype=&#x27;object&#x27;)</pre></div></div></div><div class=\"sk-serial\"><div class=\"sk-item\"><div class=\"sk-serial\"><div class=\"sk-item\"><div class=\"sk-estimator sk-toggleable\"><input class=\"sk-toggleable__control sk-hidden--visually\" id=\"sk-estimator-id-34\" type=\"checkbox\" ><label for=\"sk-estimator-id-34\" class=\"sk-toggleable__label sk-toggleable__label-arrow\">StandardScaler</label><div class=\"sk-toggleable__content\"><pre>StandardScaler()</pre></div></div></div><div class=\"sk-item\"><div class=\"sk-estimator sk-toggleable\"><input class=\"sk-toggleable__control sk-hidden--visually\" id=\"sk-estimator-id-35\" type=\"checkbox\" ><label for=\"sk-estimator-id-35\" class=\"sk-toggleable__label sk-toggleable__label-arrow\">SimpleImputer</label><div class=\"sk-toggleable__content\"><pre>SimpleImputer()</pre></div></div></div></div></div></div></div></div></div></div><div class=\"sk-item\"><div class=\"sk-estimator sk-toggleable\"><input class=\"sk-toggleable__control sk-hidden--visually\" id=\"sk-estimator-id-36\" type=\"checkbox\" ><label for=\"sk-estimator-id-36\" class=\"sk-toggleable__label sk-toggleable__label-arrow\">DecisionTreeClassifier</label><div class=\"sk-toggleable__content\"><pre>DecisionTreeClassifier(class_weight=&#x27;balanced&#x27;, max_depth=3, random_state=0)</pre></div></div></div></div></div></div></div>"
      ],
      "text/plain": [
       "Pipeline(steps=[('columntransformer',\n",
       "                 ColumnTransformer(transformers=[('pipeline',\n",
       "                                                  Pipeline(steps=[('standardscaler',\n",
       "                                                                   StandardScaler()),\n",
       "                                                                  ('simpleimputer',\n",
       "                                                                   SimpleImputer())]),\n",
       "                                                  Index(['sofa_cns', 'sofa_respiration', 'calcium_max', 'lactate_min',\n",
       "       'urineoutput', 'lactate_max', 'heart_rate_mean', 'bilirubin_total_max',\n",
       "       'temperature_max', 'heart_rate_min'],\n",
       "      dtype='object'))])),\n",
       "                ('decisiontreeclassifier',\n",
       "                 DecisionTreeClassifier(class_weight='balanced', max_depth=3,\n",
       "                                        random_state=0))])"
      ]
     },
     "execution_count": 36,
     "metadata": {},
     "output_type": "execute_result"
    }
   ],
   "source": [
    "# Here we use max_depth = 3 for the convenience of plotting tree\n",
    "model_dt_visual = make_pipeline(preprocessor,\n",
    "                          DecisionTreeClassifier(random_state=0, max_depth = 3, class_weight = \"balanced\"))\n",
    "model_dt_visual.fit(X_train, y_train) # feed the data to the decision tree model"
   ]
  },
  {
   "cell_type": "code",
   "execution_count": 40,
   "id": "2347ac5a",
   "metadata": {},
   "outputs": [
    {
     "data": {
      "image/png": "[encoded data removed]",
      "text/plain": [
       "<Figure size 1152x720 with 1 Axes>"
      ]
     },
     "metadata": {
      "needs_background": "light"
     },
     "output_type": "display_data"
    }
   ],
   "source": [
    "# plot tree\n",
    "plt.figure(figsize=(16,10))  # set plot size (denoted in inches)\n",
    "tree.plot_tree(model_dt_visual[1], \n",
    "               fontsize=10,\n",
    "              feature_names = feature_selected,\n",
    "              filled = True)\n",
    "plt.show()"
   ]
  },
  {
   "cell_type": "code",
   "execution_count": 25,
   "id": "4f160683",
   "metadata": {},
   "outputs": [
    {
     "data": {
      "text/plain": [
       "{'fit_time': array([0.13104391, 0.09372568, 0.07810402]),\n",
       " 'score_time': array([0.01561856, 0.01562428, 0.01559377]),\n",
       " 'test_recall': array([0.66139955, 0.60496614, 0.61851016]),\n",
       " 'test_f1': array([0.16024063, 0.16940582, 0.1619864 ]),\n",
       " 'test_accuracy': array([0.74751295, 0.78393488, 0.76691606])}"
      ]
     },
     "execution_count": 25,
     "metadata": {},
     "output_type": "execute_result"
    }
   ],
   "source": [
    "cv_results_dt = cross_validate(model_dt, X_train, y_train, cv=3, scoring=('recall', 'f1', 'accuracy'))\n",
    "cv_results_dt"
   ]
  },
  {
   "cell_type": "markdown",
   "id": "af658662",
   "metadata": {},
   "source": [
    "step 6. compare the performance"
   ]
  },
  {
   "cell_type": "code",
   "execution_count": 26,
   "id": "c14f148e",
   "metadata": {},
   "outputs": [],
   "source": [
    "importances = model_dt[1].feature_importances_\n",
    "feature_names = X_train.columns"
   ]
  },
  {
   "cell_type": "code",
   "execution_count": 29,
   "id": "d001c64b",
   "metadata": {},
   "outputs": [
    {
     "name": "stdout",
     "output_type": "stream",
     "text": [
      "recall of dt:  0.6282919488337096\n",
      "f1 of dt:  0.16387761747484575\n",
      "accuracy of dt:  0.7661212968291814\n"
     ]
    }
   ],
   "source": [
    "print(\"recall of dt: \", cv_results_dt['test_recall'].mean())\n",
    "print(\"f1 of dt: \", cv_results_dt['test_f1'].mean())\n",
    "print(\"accuracy of dt: \", cv_results_dt['test_accuracy'].mean())"
   ]
  },
  {
   "cell_type": "code",
   "execution_count": 30,
   "id": "66bad4e7",
   "metadata": {},
   "outputs": [
    {
     "name": "stdout",
     "output_type": "stream",
     "text": [
      "recall of lr:  0.6440933032355155\n",
      "f1 of lr:  0.17065778415414842\n",
      "accuracy of lr:  0.7719860779961083\n"
     ]
    }
   ],
   "source": [
    "print(\"recall of lr: \", cv_results_lr['test_recall'].mean())\n",
    "print(\"f1 of lr: \", cv_results_lr['test_f1'].mean())\n",
    "print(\"accuracy of lr: \", cv_results_lr['test_accuracy'].mean())"
   ]
  },
  {
   "cell_type": "code",
   "execution_count": 31,
   "id": "167815e9",
   "metadata": {},
   "outputs": [
    {
     "name": "stdout",
     "output_type": "stream",
     "text": [
      "recall of svc:  0.5733634311512416\n",
      "f1 of svc:  0.1659400914732927\n",
      "accuracy of svc:  0.7900463153279071\n"
     ]
    }
   ],
   "source": [
    "print(\"recall of svc: \", cv_results_svc['test_recall'].mean())\n",
    "print(\"f1 of svc: \", cv_results_svc['test_f1'].mean())\n",
    "print(\"accuracy of svc: \", cv_results_svc['test_accuracy'].mean())"
   ]
  },
  {
   "cell_type": "code",
   "execution_count": 34,
   "id": "8bf28b83",
   "metadata": {},
   "outputs": [
    {
     "name": "stdout",
     "output_type": "stream",
     "text": [
      "{'fit_time': array([0.07810998, 0.08340716, 0.07060981]), 'score_time': array([0.        , 0.01099896, 0.01093554]), 'test_recall': array([0.01805869, 0.04063205, 0.03386005]), 'test_f1': array([0.03245436, 0.07142857, 0.06072874]), 'test_accuracy': array([0.9607827 , 0.96152265, 0.96185152])}\n",
      "recall of dt imb:  0.0308502633559067\n",
      "f1 of dt imb:  0.0548705591408698\n",
      "accuracy of dt imb:  0.9613856230644852\n"
     ]
    }
   ],
   "source": [
    "model_dt_imb = make_pipeline(preprocessor,\n",
    "                          DecisionTreeClassifier(random_state=0, max_depth = 7))\n",
    "model_dt_imb.fit(X_train, y_train)\n",
    "\n",
    "cv_results_dt_imb = cross_validate(model_dt_imb, X_train, y_train, cv=3, scoring=('recall', 'f1', 'accuracy'))\n",
    "print(cv_results_dt_imb)\n",
    "print(\"recall of dt imb: \", cv_results_dt_imb['test_recall'].mean())\n",
    "print(\"f1 of dt imb: \", cv_results_dt_imb['test_f1'].mean())\n",
    "print(\"accuracy of dt imb: \", cv_results_dt_imb['test_accuracy'].mean())"
   ]
  },
  {
   "cell_type": "code",
   "execution_count": 35,
   "id": "ad0e2784",
   "metadata": {},
   "outputs": [
    {
     "name": "stdout",
     "output_type": "stream",
     "text": [
      "{'fit_time': array([0.04686689, 0.04686356, 0.04686403]), 'score_time': array([0.0156188 , 0.01562023, 0.01562119]), 'test_recall': array([0.00225734, 0.01128668, 0.00451467]), 'test_f1': array([0.00447427, 0.02222222, 0.00894855]), 'test_accuracy': array([0.96341363, 0.96382471, 0.96357806])}\n",
      "recall of lr imb:  0.006019563581640331\n",
      "f1 of lr imb:  0.011881680338056174\n",
      "accuracy of lr imb:  0.9636054701416864\n"
     ]
    }
   ],
   "source": [
    "model_lr_imb = make_pipeline(preprocessor,\n",
    "                          LogisticRegression(random_state=0, max_iter = 1000))\n",
    "model_lr_imb.fit(X_train, y_train)\n",
    "\n",
    "cv_results_lr_imb = cross_validate(model_lr_imb, X_train, y_train, cv=3, scoring=('recall', 'f1', 'accuracy'))\n",
    "print(cv_results_lr_imb)\n",
    "print(\"recall of lr imb: \", cv_results_lr_imb['test_recall'].mean())\n",
    "print(\"f1 of lr imb: \", cv_results_lr_imb['test_f1'].mean())\n",
    "print(\"accuracy of lr imb: \", cv_results_lr_imb['test_accuracy'].mean())"
   ]
  },
  {
   "cell_type": "code",
   "execution_count": 36,
   "id": "c945c20e",
   "metadata": {},
   "outputs": [
    {
     "name": "stdout",
     "output_type": "stream",
     "text": [
      "{'fit_time': array([13.25794697, 13.81020665, 11.6955409 ]), 'score_time': array([3.97190595, 4.02827597, 3.81855774]), 'test_recall': array([0., 0., 0.]), 'test_f1': array([0., 0., 0.]), 'test_accuracy': array([0.96357806, 0.96357806, 0.96357806])}\n",
      "recall of svc imb:  0.0\n",
      "f1 of svc imb:  0.0\n",
      "accuracy of svc imb:  0.9635780646222148\n"
     ]
    }
   ],
   "source": [
    "model_svc_imb = make_pipeline(preprocessor,\n",
    "                          svm.SVC())\n",
    "model_svc_imb.fit(X_train, y_train)\n",
    "\n",
    "cv_results_svc_imb = cross_validate(model_svc_imb, X_train, y_train, cv=3, scoring=('recall', 'f1', 'accuracy'))\n",
    "print(cv_results_svc_imb)\n",
    "print(\"recall of svc imb: \", cv_results_svc_imb['test_recall'].mean())\n",
    "print(\"f1 of svc imb: \", cv_results_svc_imb['test_f1'].mean())\n",
    "print(\"accuracy of svc imb: \", cv_results_svc_imb['test_accuracy'].mean())"
   ]
  },
  {
   "cell_type": "code",
   "execution_count": null,
   "id": "14f82996",
   "metadata": {},
   "outputs": [],
   "source": []
  }
 ],
 "metadata": {
  "kernelspec": {
   "display_name": "Python 3",
   "language": "python",
   "name": "python3"
  },
  "language_info": {
   "codemirror_mode": {
    "name": "ipython",
    "version": 3
   },
   "file_extension": ".py",
   "mimetype": "text/x-python",
   "name": "python",
   "nbconvert_exporter": "python",
   "pygments_lexer": "ipython3",
   "version": "3.8.8"
  }
 },
 "nbformat": 4,
 "nbformat_minor": 5
}
